{
 "cells": [
  {
   "cell_type": "code",
   "execution_count": 10,
   "metadata": {},
   "outputs": [],
   "source": [
    "import pandas as pd\n",
    "import pathlib\n",
    "import ipytest\n",
    "ipytest.autoconfig()\n",
    "import plotly.express as px\n",
    "from plotly.subplots import make_subplots\n",
    "import plotly.graph_objects as go\n",
    "import os\n",
    "import sys \n",
    "sys.path.append(\"/net/data.isilon/ag-cherrmann/nschmidt/project/parse_xml_for_VAE/xml_data/\")\n",
    "sys.path.append(\"/net/data.isilon/ag-cherrmann/nschmidt/project/parse_xml_for_VAE/xml_data_t/\")\n",
    "import numpy as np"
   ]
  },
  {
   "cell_type": "code",
   "execution_count": 11,
   "metadata": {},
   "outputs": [],
   "source": [
    "path_to_xml = \"/net/data.isilon/ag-cherrmann/nschmidt/project/parse_xml_for_VAE/xml_data/\"\n",
    "path_to_xml_t = \"/net/data.isilon/ag-cherrmann/nschmidt/project/parse_xml_for_VAE/xml_data_t/\"\n",
    "\n",
    "paths = list(pathlib.Path(path_to_xml).glob(\"*.csv\"))\n",
    "paths_t = list(pathlib.Path(path_to_xml_t).glob(\"*.csv\"))\n"
   ]
  },
  {
   "cell_type": "code",
   "execution_count": 12,
   "metadata": {},
   "outputs": [
    {
     "data": {
      "application/vnd.plotly.v1+json": {
       "config": {
        "plotlyServerURL": "https://plot.ly"
       },
       "data": [
        {
         "boxpoints": "all",
         "jitter": 0.3,
         "name": "lPulvinar",
         "type": "box",
         "xaxis": "x",
         "y": [
          0.494967443700863,
          0.385533359955488
         ],
         "yaxis": "y"
        },
        {
         "boxpoints": "all",
         "jitter": 0.3,
         "name": "lAnterior",
         "type": "box",
         "xaxis": "x",
         "y": [
          0.473759650759349,
          0.459607877046355
         ],
         "yaxis": "y"
        },
        {
         "boxpoints": "all",
         "jitter": 0.3,
         "name": "lMedio_Dorsal",
         "type": "box",
         "xaxis": "x",
         "y": [
          0.668198396472037,
          0.535129448334265
         ],
         "yaxis": "y"
        },
        {
         "boxpoints": "all",
         "jitter": 0.3,
         "name": "lVentral_Latero_Dorsal",
         "type": "box",
         "xaxis": "x",
         "y": [
          0.607527957667537,
          0.386294145806806
         ],
         "yaxis": "y"
        },
        {
         "boxpoints": "all",
         "jitter": 0.3,
         "name": "lCentral_Lateral-Lateral_Posterior-Medial_Pulvinar",
         "type": "box",
         "xaxis": "x",
         "y": [
          0.615590677064912,
          0.492298068560501
         ],
         "yaxis": "y"
        },
        {
         "boxpoints": "all",
         "jitter": 0.3,
         "name": "lVentral_Anterior",
         "type": "box",
         "xaxis": "x",
         "y": [
          0.691625792331151,
          0.4007490480992
         ],
         "yaxis": "y"
        },
        {
         "boxpoints": "all",
         "jitter": 0.3,
         "name": "lVentral_Latero_Ventral",
         "type": "box",
         "xaxis": "x",
         "y": [
          0.316375716423883,
          0.233317665683626
         ],
         "yaxis": "y"
        },
        {
         "boxpoints": "all",
         "jitter": 0.3,
         "name": "rPulvinar",
         "type": "box",
         "xaxis": "x",
         "y": [
          0.553614360066642,
          0.694392202803111
         ],
         "yaxis": "y"
        },
        {
         "boxpoints": "all",
         "jitter": 0.3,
         "name": "rAnterior",
         "type": "box",
         "xaxis": "x",
         "y": [
          0.501085075621559,
          0.315647082039423
         ],
         "yaxis": "y"
        },
        {
         "boxpoints": "all",
         "jitter": 0.3,
         "name": "rMedio_Dorsal",
         "type": "box",
         "xaxis": "x",
         "y": [
          0.625104382402953,
          0.479847090315825
         ],
         "yaxis": "y"
        },
        {
         "boxpoints": "all",
         "jitter": 0.3,
         "name": "rVentral_Latero_Dorsal",
         "type": "box",
         "xaxis": "x",
         "y": [
          0.505983101811637,
          0.441662775454044
         ],
         "yaxis": "y"
        },
        {
         "boxpoints": "all",
         "jitter": 0.3,
         "name": "rCentral_Lateral-Lateral_Posterior-Medial_Pulvinar",
         "type": "box",
         "xaxis": "x",
         "y": [
          0.449293037930008,
          0.445090222988426
         ],
         "yaxis": "y"
        },
        {
         "boxpoints": "all",
         "jitter": 0.3,
         "name": "rVentral_Anterior",
         "type": "box",
         "xaxis": "x",
         "y": [
          0.623335760988244,
          0.366835321290562
         ],
         "yaxis": "y"
        },
        {
         "boxpoints": "all",
         "jitter": 0.3,
         "name": "rVentral_Latero_Ventral",
         "type": "box",
         "xaxis": "x",
         "y": [
          0.248497446804347,
          0.200776486720889
         ],
         "yaxis": "y"
        },
        {
         "boxpoints": "all",
         "jitter": 0.3,
         "name": "Left I IV",
         "type": "box",
         "xaxis": "x2",
         "y": [
          1.50654148514263,
          1.12144321479111
         ],
         "yaxis": "y2"
        },
        {
         "boxpoints": "all",
         "jitter": 0.3,
         "name": "Right I IV",
         "type": "box",
         "xaxis": "x2",
         "y": [
          1.58912168151203,
          1.48799225779164
         ],
         "yaxis": "y2"
        },
        {
         "boxpoints": "all",
         "jitter": 0.3,
         "name": "Left V",
         "type": "box",
         "xaxis": "x2",
         "y": [
          2.17108106602561,
          1.53342363558565
         ],
         "yaxis": "y2"
        },
        {
         "boxpoints": "all",
         "jitter": 0.3,
         "name": "Right V",
         "type": "box",
         "xaxis": "x2",
         "y": [
          2.00659910704589,
          1.86644325908153
         ],
         "yaxis": "y2"
        },
        {
         "boxpoints": "all",
         "jitter": 0.3,
         "name": "Left VI",
         "type": "box",
         "xaxis": "x2",
         "y": [
          4.22357418006768,
          3.24728257467469
         ],
         "yaxis": "y2"
        },
        {
         "boxpoints": "all",
         "jitter": 0.3,
         "name": "Vermis VI",
         "type": "box",
         "xaxis": "x2",
         "y": [
          0.803982385528534,
          0.764309854814968
         ],
         "yaxis": "y2"
        },
        {
         "boxpoints": "all",
         "jitter": 0.3,
         "name": "Right VI",
         "type": "box",
         "xaxis": "x2",
         "y": [
          3.71759892224287,
          3.21088648931471
         ],
         "yaxis": "y2"
        },
        {
         "boxpoints": "all",
         "jitter": 0.3,
         "name": "Left CrusI",
         "type": "box",
         "xaxis": "x2",
         "y": [
          5.90681719821748,
          5.82920820984688
         ],
         "yaxis": "y2"
        },
        {
         "boxpoints": "all",
         "jitter": 0.3,
         "name": "Vermis CrusI",
         "type": "box",
         "xaxis": "x2",
         "y": [
          0.0057176333677679,
          0.0037372551815788
         ],
         "yaxis": "y2"
        },
        {
         "boxpoints": "all",
         "jitter": 0.3,
         "name": "Right CrusI",
         "type": "box",
         "xaxis": "x2",
         "y": [
          6.10051084862169,
          5.03391013340949
         ],
         "yaxis": "y2"
        },
        {
         "boxpoints": "all",
         "jitter": 0.3,
         "name": "Left CrusII",
         "type": "box",
         "xaxis": "x2",
         "y": [
          5.28956377221692,
          5.62176896707116
         ],
         "yaxis": "y2"
        },
        {
         "boxpoints": "all",
         "jitter": 0.3,
         "name": "Vermis CrusII",
         "type": "box",
         "xaxis": "x2",
         "y": [
          0.19976030563481,
          0.247784328658065
         ],
         "yaxis": "y2"
        },
        {
         "boxpoints": "all",
         "jitter": 0.3,
         "name": "Right CrusII",
         "type": "box",
         "xaxis": "x2",
         "y": [
          5.39677135765112,
          5.61993367551065
         ],
         "yaxis": "y2"
        },
        {
         "boxpoints": "all",
         "jitter": 0.3,
         "name": "Left VIIb",
         "type": "box",
         "xaxis": "x2",
         "y": [
          3.49377592178022,
          3.64562766527597
         ],
         "yaxis": "y2"
        },
        {
         "boxpoints": "all",
         "jitter": 0.3,
         "name": "Vermis VIIb",
         "type": "box",
         "xaxis": "x2",
         "y": [
          0.0917095837744542,
          0.0935686335615873
         ],
         "yaxis": "y2"
        },
        {
         "boxpoints": "all",
         "jitter": 0.3,
         "name": "Right VIIb",
         "type": "box",
         "xaxis": "x2",
         "y": [
          3.4055447601918,
          3.6576943330902
         ],
         "yaxis": "y2"
        },
        {
         "boxpoints": "all",
         "jitter": 0.3,
         "name": "Left VIIIa",
         "type": "box",
         "xaxis": "x2",
         "y": [
          3.17792178351504,
          3.46431001030351
         ],
         "yaxis": "y2"
        },
        {
         "boxpoints": "all",
         "jitter": 0.3,
         "name": "Vermis VIIIa",
         "type": "box",
         "xaxis": "x2",
         "y": [
          0.504783104622693,
          0.656670631299242
         ],
         "yaxis": "y2"
        },
        {
         "boxpoints": "all",
         "jitter": 0.3,
         "name": "Right VIIIa",
         "type": "box",
         "xaxis": "x2",
         "y": [
          3.18041196631128,
          3.38542372585569
         ],
         "yaxis": "y2"
        },
        {
         "boxpoints": "all",
         "jitter": 0.3,
         "name": "Left VIIIb",
         "type": "box",
         "xaxis": "x2",
         "y": [
          1.99831285528282,
          2.43921191592061
         ],
         "yaxis": "y2"
        },
        {
         "boxpoints": "all",
         "jitter": 0.3,
         "name": "Vermis VIIIb",
         "type": "box",
         "xaxis": "x2",
         "y": [
          0.336140370817393,
          0.381760808913
         ],
         "yaxis": "y2"
        },
        {
         "boxpoints": "all",
         "jitter": 0.3,
         "name": "Right VIIIb",
         "type": "box",
         "xaxis": "x2",
         "y": [
          2.25008871468795,
          2.40287857884721
         ],
         "yaxis": "y2"
        },
        {
         "boxpoints": "all",
         "jitter": 0.3,
         "name": "Left IX",
         "type": "box",
         "xaxis": "x2",
         "y": [
          1.47841998909395,
          1.84292560516479
         ],
         "yaxis": "y2"
        },
        {
         "boxpoints": "all",
         "jitter": 0.3,
         "name": "Vermis IX",
         "type": "box",
         "xaxis": "x2",
         "y": [
          0.307905146213838,
          0.366607868735026
         ],
         "yaxis": "y2"
        },
        {
         "boxpoints": "all",
         "jitter": 0.3,
         "name": "Right IX",
         "type": "box",
         "xaxis": "x2",
         "y": [
          1.67859205566936,
          2.02273737853678
         ],
         "yaxis": "y2"
        },
        {
         "boxpoints": "all",
         "jitter": 0.3,
         "name": "Left X",
         "type": "box",
         "xaxis": "x2",
         "y": [
          0.288191467549298,
          0.327462767371918
         ],
         "yaxis": "y2"
        },
        {
         "boxpoints": "all",
         "jitter": 0.3,
         "name": "Vermis X",
         "type": "box",
         "xaxis": "x2",
         "y": [
          0.148058469176576,
          0.13645098979335
         ],
         "yaxis": "y2"
        },
        {
         "boxpoints": "all",
         "jitter": 0.3,
         "name": "Right X",
         "type": "box",
         "xaxis": "x2",
         "y": [
          0.332387438804443,
          0.348251003949466
         ],
         "yaxis": "y2"
        },
        {
         "boxpoints": "all",
         "jitter": 0.3,
         "name": "lAnteroventral",
         "type": "box",
         "xaxis": "x3",
         "y": [
          0,
          0
         ],
         "yaxis": "y3"
        },
        {
         "boxpoints": "all",
         "jitter": 0.3,
         "name": "lVentral_Anterior",
         "type": "box",
         "xaxis": "x3",
         "y": [
          0.0933997762709232,
          0.0495764742798512
         ],
         "yaxis": "y3"
        },
        {
         "boxpoints": "all",
         "jitter": 0.3,
         "name": "lVentral_Lateral_Anterior",
         "type": "box",
         "xaxis": "x3",
         "y": [
          0,
          0
         ],
         "yaxis": "y3"
        },
        {
         "boxpoints": "all",
         "jitter": 0.3,
         "name": "lVentral_Lateral_Posterior",
         "type": "box",
         "xaxis": "x3",
         "y": [
          0.137787906462759,
          0.0860980463614621
         ],
         "yaxis": "y3"
        },
        {
         "boxpoints": "all",
         "jitter": 0.3,
         "name": "lVentral_Posterolateral",
         "type": "box",
         "xaxis": "x3",
         "y": [
          0.0254587629300636,
          0.0338705909891165
         ],
         "yaxis": "y3"
        },
        {
         "boxpoints": "all",
         "jitter": 0.3,
         "name": "lPulvinar",
         "type": "box",
         "xaxis": "x3",
         "y": [
          0.472124359335686,
          0.258200019997966
         ],
         "yaxis": "y3"
        },
        {
         "boxpoints": "all",
         "jitter": 0.3,
         "name": "lLateral_Geniculate",
         "type": "box",
         "xaxis": "x3",
         "y": [
          0.128733026472406,
          0.0720784373207696
         ],
         "yaxis": "y3"
        },
        {
         "boxpoints": "all",
         "jitter": 0.3,
         "name": "lMedial_Geniculate",
         "type": "box",
         "xaxis": "x3",
         "y": [
          0.995240750955277,
          0.744600048094053
         ],
         "yaxis": "y3"
        },
        {
         "boxpoints": "all",
         "jitter": 0.3,
         "name": "lCentromedian",
         "type": "box",
         "xaxis": "x3",
         "y": [
          0.0084470386658738,
          0.0035490199181905
         ],
         "yaxis": "y3"
        },
        {
         "boxpoints": "all",
         "jitter": 0.3,
         "name": "lMediodorsal",
         "type": "box",
         "xaxis": "x3",
         "y": [
          0.0486979228382201,
          0.0286392180635289
         ],
         "yaxis": "y3"
        },
        {
         "boxpoints": "all",
         "jitter": 0.3,
         "name": "lHabenula",
         "type": "box",
         "xaxis": "x3",
         "y": [
          0.060831227022328,
          0.0459647093812771
         ],
         "yaxis": "y3"
        },
        {
         "boxpoints": "all",
         "jitter": 0.3,
         "name": "rAnteroventral",
         "type": "box",
         "xaxis": "x3",
         "y": [
          0.5259477538369,
          0.334721589017837
         ],
         "yaxis": "y3"
        },
        {
         "boxpoints": "all",
         "jitter": 0.3,
         "name": "rVentral_Anterior",
         "type": "box",
         "xaxis": "x3",
         "y": [
          0.0887801805121144,
          0.0589921612428043
         ],
         "yaxis": "y3"
        },
        {
         "boxpoints": "all",
         "jitter": 0.3,
         "name": "rVentral_Lateral_Anterior",
         "type": "box",
         "xaxis": "x3",
         "y": [
          0.0067490035506905,
          0.0064588240042429
         ],
         "yaxis": "y3"
        },
        {
         "boxpoints": "all",
         "jitter": 0.3,
         "name": "rVentral_Lateral_Posterior",
         "type": "box",
         "xaxis": "x3",
         "y": [
          0.150607483448388,
          0.089454908996896
         ],
         "yaxis": "y3"
        },
        {
         "boxpoints": "all",
         "jitter": 0.3,
         "name": "rVentral_Posterolateral",
         "type": "box",
         "xaxis": "x3",
         "y": [
          0.0228901415787503,
          0.0131607853813997
         ],
         "yaxis": "y3"
        },
        {
         "boxpoints": "all",
         "jitter": 0.3,
         "name": "rPulvinar",
         "type": "box",
         "xaxis": "x3",
         "y": [
          0.531367353488096,
          0.24293335222743
         ],
         "yaxis": "y3"
        },
        {
         "boxpoints": "all",
         "jitter": 0.3,
         "name": "rLateral_Geniculate",
         "type": "box",
         "xaxis": "x3",
         "y": [
          0.103301714931835,
          0.0745607903093257
         ],
         "yaxis": "y3"
        },
        {
         "boxpoints": "all",
         "jitter": 0.3,
         "name": "rMedial_Geniculate",
         "type": "box",
         "xaxis": "x3",
         "y": [
          0.799856905459943,
          0.829309857527243
         ],
         "yaxis": "y3"
        },
        {
         "boxpoints": "all",
         "jitter": 0.3,
         "name": "rCentromedian",
         "type": "box",
         "xaxis": "x3",
         "y": [
          0.0090705665688827,
          0.0133882363308694
         ],
         "yaxis": "y3"
        },
        {
         "boxpoints": "all",
         "jitter": 0.3,
         "name": "rMediodorsal",
         "type": "box",
         "xaxis": "x3",
         "y": [
          0.037690106073045,
          0.0576627488671786
         ],
         "yaxis": "y3"
        },
        {
         "boxpoints": "all",
         "jitter": 0.3,
         "name": "rHabenula",
         "type": "box",
         "xaxis": "x3",
         "y": [
          0.0575802545178511,
          0.0563607884916081
         ],
         "yaxis": "y3"
        }
       ],
       "layout": {
        "height": 1200,
        "template": {
         "data": {
          "bar": [
           {
            "error_x": {
             "color": "#2a3f5f"
            },
            "error_y": {
             "color": "#2a3f5f"
            },
            "marker": {
             "line": {
              "color": "#E5ECF6",
              "width": 0.5
             },
             "pattern": {
              "fillmode": "overlay",
              "size": 10,
              "solidity": 0.2
             }
            },
            "type": "bar"
           }
          ],
          "barpolar": [
           {
            "marker": {
             "line": {
              "color": "#E5ECF6",
              "width": 0.5
             },
             "pattern": {
              "fillmode": "overlay",
              "size": 10,
              "solidity": 0.2
             }
            },
            "type": "barpolar"
           }
          ],
          "carpet": [
           {
            "aaxis": {
             "endlinecolor": "#2a3f5f",
             "gridcolor": "white",
             "linecolor": "white",
             "minorgridcolor": "white",
             "startlinecolor": "#2a3f5f"
            },
            "baxis": {
             "endlinecolor": "#2a3f5f",
             "gridcolor": "white",
             "linecolor": "white",
             "minorgridcolor": "white",
             "startlinecolor": "#2a3f5f"
            },
            "type": "carpet"
           }
          ],
          "choropleth": [
           {
            "colorbar": {
             "outlinewidth": 0,
             "ticks": ""
            },
            "type": "choropleth"
           }
          ],
          "contour": [
           {
            "colorbar": {
             "outlinewidth": 0,
             "ticks": ""
            },
            "colorscale": [
             [
              0,
              "#0d0887"
             ],
             [
              0.1111111111111111,
              "#46039f"
             ],
             [
              0.2222222222222222,
              "#7201a8"
             ],
             [
              0.3333333333333333,
              "#9c179e"
             ],
             [
              0.4444444444444444,
              "#bd3786"
             ],
             [
              0.5555555555555556,
              "#d8576b"
             ],
             [
              0.6666666666666666,
              "#ed7953"
             ],
             [
              0.7777777777777778,
              "#fb9f3a"
             ],
             [
              0.8888888888888888,
              "#fdca26"
             ],
             [
              1,
              "#f0f921"
             ]
            ],
            "type": "contour"
           }
          ],
          "contourcarpet": [
           {
            "colorbar": {
             "outlinewidth": 0,
             "ticks": ""
            },
            "type": "contourcarpet"
           }
          ],
          "heatmap": [
           {
            "colorbar": {
             "outlinewidth": 0,
             "ticks": ""
            },
            "colorscale": [
             [
              0,
              "#0d0887"
             ],
             [
              0.1111111111111111,
              "#46039f"
             ],
             [
              0.2222222222222222,
              "#7201a8"
             ],
             [
              0.3333333333333333,
              "#9c179e"
             ],
             [
              0.4444444444444444,
              "#bd3786"
             ],
             [
              0.5555555555555556,
              "#d8576b"
             ],
             [
              0.6666666666666666,
              "#ed7953"
             ],
             [
              0.7777777777777778,
              "#fb9f3a"
             ],
             [
              0.8888888888888888,
              "#fdca26"
             ],
             [
              1,
              "#f0f921"
             ]
            ],
            "type": "heatmap"
           }
          ],
          "heatmapgl": [
           {
            "colorbar": {
             "outlinewidth": 0,
             "ticks": ""
            },
            "colorscale": [
             [
              0,
              "#0d0887"
             ],
             [
              0.1111111111111111,
              "#46039f"
             ],
             [
              0.2222222222222222,
              "#7201a8"
             ],
             [
              0.3333333333333333,
              "#9c179e"
             ],
             [
              0.4444444444444444,
              "#bd3786"
             ],
             [
              0.5555555555555556,
              "#d8576b"
             ],
             [
              0.6666666666666666,
              "#ed7953"
             ],
             [
              0.7777777777777778,
              "#fb9f3a"
             ],
             [
              0.8888888888888888,
              "#fdca26"
             ],
             [
              1,
              "#f0f921"
             ]
            ],
            "type": "heatmapgl"
           }
          ],
          "histogram": [
           {
            "marker": {
             "pattern": {
              "fillmode": "overlay",
              "size": 10,
              "solidity": 0.2
             }
            },
            "type": "histogram"
           }
          ],
          "histogram2d": [
           {
            "colorbar": {
             "outlinewidth": 0,
             "ticks": ""
            },
            "colorscale": [
             [
              0,
              "#0d0887"
             ],
             [
              0.1111111111111111,
              "#46039f"
             ],
             [
              0.2222222222222222,
              "#7201a8"
             ],
             [
              0.3333333333333333,
              "#9c179e"
             ],
             [
              0.4444444444444444,
              "#bd3786"
             ],
             [
              0.5555555555555556,
              "#d8576b"
             ],
             [
              0.6666666666666666,
              "#ed7953"
             ],
             [
              0.7777777777777778,
              "#fb9f3a"
             ],
             [
              0.8888888888888888,
              "#fdca26"
             ],
             [
              1,
              "#f0f921"
             ]
            ],
            "type": "histogram2d"
           }
          ],
          "histogram2dcontour": [
           {
            "colorbar": {
             "outlinewidth": 0,
             "ticks": ""
            },
            "colorscale": [
             [
              0,
              "#0d0887"
             ],
             [
              0.1111111111111111,
              "#46039f"
             ],
             [
              0.2222222222222222,
              "#7201a8"
             ],
             [
              0.3333333333333333,
              "#9c179e"
             ],
             [
              0.4444444444444444,
              "#bd3786"
             ],
             [
              0.5555555555555556,
              "#d8576b"
             ],
             [
              0.6666666666666666,
              "#ed7953"
             ],
             [
              0.7777777777777778,
              "#fb9f3a"
             ],
             [
              0.8888888888888888,
              "#fdca26"
             ],
             [
              1,
              "#f0f921"
             ]
            ],
            "type": "histogram2dcontour"
           }
          ],
          "mesh3d": [
           {
            "colorbar": {
             "outlinewidth": 0,
             "ticks": ""
            },
            "type": "mesh3d"
           }
          ],
          "parcoords": [
           {
            "line": {
             "colorbar": {
              "outlinewidth": 0,
              "ticks": ""
             }
            },
            "type": "parcoords"
           }
          ],
          "pie": [
           {
            "automargin": true,
            "type": "pie"
           }
          ],
          "scatter": [
           {
            "fillpattern": {
             "fillmode": "overlay",
             "size": 10,
             "solidity": 0.2
            },
            "type": "scatter"
           }
          ],
          "scatter3d": [
           {
            "line": {
             "colorbar": {
              "outlinewidth": 0,
              "ticks": ""
             }
            },
            "marker": {
             "colorbar": {
              "outlinewidth": 0,
              "ticks": ""
             }
            },
            "type": "scatter3d"
           }
          ],
          "scattercarpet": [
           {
            "marker": {
             "colorbar": {
              "outlinewidth": 0,
              "ticks": ""
             }
            },
            "type": "scattercarpet"
           }
          ],
          "scattergeo": [
           {
            "marker": {
             "colorbar": {
              "outlinewidth": 0,
              "ticks": ""
             }
            },
            "type": "scattergeo"
           }
          ],
          "scattergl": [
           {
            "marker": {
             "colorbar": {
              "outlinewidth": 0,
              "ticks": ""
             }
            },
            "type": "scattergl"
           }
          ],
          "scattermapbox": [
           {
            "marker": {
             "colorbar": {
              "outlinewidth": 0,
              "ticks": ""
             }
            },
            "type": "scattermapbox"
           }
          ],
          "scatterpolar": [
           {
            "marker": {
             "colorbar": {
              "outlinewidth": 0,
              "ticks": ""
             }
            },
            "type": "scatterpolar"
           }
          ],
          "scatterpolargl": [
           {
            "marker": {
             "colorbar": {
              "outlinewidth": 0,
              "ticks": ""
             }
            },
            "type": "scatterpolargl"
           }
          ],
          "scatterternary": [
           {
            "marker": {
             "colorbar": {
              "outlinewidth": 0,
              "ticks": ""
             }
            },
            "type": "scatterternary"
           }
          ],
          "surface": [
           {
            "colorbar": {
             "outlinewidth": 0,
             "ticks": ""
            },
            "colorscale": [
             [
              0,
              "#0d0887"
             ],
             [
              0.1111111111111111,
              "#46039f"
             ],
             [
              0.2222222222222222,
              "#7201a8"
             ],
             [
              0.3333333333333333,
              "#9c179e"
             ],
             [
              0.4444444444444444,
              "#bd3786"
             ],
             [
              0.5555555555555556,
              "#d8576b"
             ],
             [
              0.6666666666666666,
              "#ed7953"
             ],
             [
              0.7777777777777778,
              "#fb9f3a"
             ],
             [
              0.8888888888888888,
              "#fdca26"
             ],
             [
              1,
              "#f0f921"
             ]
            ],
            "type": "surface"
           }
          ],
          "table": [
           {
            "cells": {
             "fill": {
              "color": "#EBF0F8"
             },
             "line": {
              "color": "white"
             }
            },
            "header": {
             "fill": {
              "color": "#C8D4E3"
             },
             "line": {
              "color": "white"
             }
            },
            "type": "table"
           }
          ]
         },
         "layout": {
          "annotationdefaults": {
           "arrowcolor": "#2a3f5f",
           "arrowhead": 0,
           "arrowwidth": 1
          },
          "autotypenumbers": "strict",
          "coloraxis": {
           "colorbar": {
            "outlinewidth": 0,
            "ticks": ""
           }
          },
          "colorscale": {
           "diverging": [
            [
             0,
             "#8e0152"
            ],
            [
             0.1,
             "#c51b7d"
            ],
            [
             0.2,
             "#de77ae"
            ],
            [
             0.3,
             "#f1b6da"
            ],
            [
             0.4,
             "#fde0ef"
            ],
            [
             0.5,
             "#f7f7f7"
            ],
            [
             0.6,
             "#e6f5d0"
            ],
            [
             0.7,
             "#b8e186"
            ],
            [
             0.8,
             "#7fbc41"
            ],
            [
             0.9,
             "#4d9221"
            ],
            [
             1,
             "#276419"
            ]
           ],
           "sequential": [
            [
             0,
             "#0d0887"
            ],
            [
             0.1111111111111111,
             "#46039f"
            ],
            [
             0.2222222222222222,
             "#7201a8"
            ],
            [
             0.3333333333333333,
             "#9c179e"
            ],
            [
             0.4444444444444444,
             "#bd3786"
            ],
            [
             0.5555555555555556,
             "#d8576b"
            ],
            [
             0.6666666666666666,
             "#ed7953"
            ],
            [
             0.7777777777777778,
             "#fb9f3a"
            ],
            [
             0.8888888888888888,
             "#fdca26"
            ],
            [
             1,
             "#f0f921"
            ]
           ],
           "sequentialminus": [
            [
             0,
             "#0d0887"
            ],
            [
             0.1111111111111111,
             "#46039f"
            ],
            [
             0.2222222222222222,
             "#7201a8"
            ],
            [
             0.3333333333333333,
             "#9c179e"
            ],
            [
             0.4444444444444444,
             "#bd3786"
            ],
            [
             0.5555555555555556,
             "#d8576b"
            ],
            [
             0.6666666666666666,
             "#ed7953"
            ],
            [
             0.7777777777777778,
             "#fb9f3a"
            ],
            [
             0.8888888888888888,
             "#fdca26"
            ],
            [
             1,
             "#f0f921"
            ]
           ]
          },
          "colorway": [
           "#636efa",
           "#EF553B",
           "#00cc96",
           "#ab63fa",
           "#FFA15A",
           "#19d3f3",
           "#FF6692",
           "#B6E880",
           "#FF97FF",
           "#FECB52"
          ],
          "font": {
           "color": "#2a3f5f"
          },
          "geo": {
           "bgcolor": "white",
           "lakecolor": "white",
           "landcolor": "#E5ECF6",
           "showlakes": true,
           "showland": true,
           "subunitcolor": "white"
          },
          "hoverlabel": {
           "align": "left"
          },
          "hovermode": "closest",
          "mapbox": {
           "style": "light"
          },
          "paper_bgcolor": "white",
          "plot_bgcolor": "#E5ECF6",
          "polar": {
           "angularaxis": {
            "gridcolor": "white",
            "linecolor": "white",
            "ticks": ""
           },
           "bgcolor": "#E5ECF6",
           "radialaxis": {
            "gridcolor": "white",
            "linecolor": "white",
            "ticks": ""
           }
          },
          "scene": {
           "xaxis": {
            "backgroundcolor": "#E5ECF6",
            "gridcolor": "white",
            "gridwidth": 2,
            "linecolor": "white",
            "showbackground": true,
            "ticks": "",
            "zerolinecolor": "white"
           },
           "yaxis": {
            "backgroundcolor": "#E5ECF6",
            "gridcolor": "white",
            "gridwidth": 2,
            "linecolor": "white",
            "showbackground": true,
            "ticks": "",
            "zerolinecolor": "white"
           },
           "zaxis": {
            "backgroundcolor": "#E5ECF6",
            "gridcolor": "white",
            "gridwidth": 2,
            "linecolor": "white",
            "showbackground": true,
            "ticks": "",
            "zerolinecolor": "white"
           }
          },
          "shapedefaults": {
           "line": {
            "color": "#2a3f5f"
           }
          },
          "ternary": {
           "aaxis": {
            "gridcolor": "white",
            "linecolor": "white",
            "ticks": ""
           },
           "baxis": {
            "gridcolor": "white",
            "linecolor": "white",
            "ticks": ""
           },
           "bgcolor": "#E5ECF6",
           "caxis": {
            "gridcolor": "white",
            "linecolor": "white",
            "ticks": ""
           }
          },
          "title": {
           "x": 0.05
          },
          "xaxis": {
           "automargin": true,
           "gridcolor": "white",
           "linecolor": "white",
           "ticks": "",
           "title": {
            "standoff": 15
           },
           "zerolinecolor": "white",
           "zerolinewidth": 2
          },
          "yaxis": {
           "automargin": true,
           "gridcolor": "white",
           "linecolor": "white",
           "ticks": "",
           "title": {
            "standoff": 15
           },
           "zerolinecolor": "white",
           "zerolinewidth": 2
          }
         }
        },
        "xaxis": {
         "anchor": "y",
         "domain": [
          0,
          1
         ]
        },
        "xaxis2": {
         "anchor": "y2",
         "domain": [
          0,
          1
         ]
        },
        "xaxis3": {
         "anchor": "y3",
         "domain": [
          0,
          1
         ]
        },
        "yaxis": {
         "anchor": "x",
         "domain": [
          0.7333333333333333,
          1
         ]
        },
        "yaxis2": {
         "anchor": "x2",
         "domain": [
          0.36666666666666664,
          0.6333333333333333
         ]
        },
        "yaxis3": {
         "anchor": "x3",
         "domain": [
          0,
          0.26666666666666666
         ]
        }
       }
      },
      "text/html": [
       "<div>                            <div id=\"de8f08d4-d7f2-4776-b4eb-69c081983ab8\" class=\"plotly-graph-div\" style=\"height:1200px; width:100%;\"></div>            <script type=\"text/javascript\">                require([\"plotly\"], function(Plotly) {                    window.PLOTLYENV=window.PLOTLYENV || {};                                    if (document.getElementById(\"de8f08d4-d7f2-4776-b4eb-69c081983ab8\")) {                    Plotly.newPlot(                        \"de8f08d4-d7f2-4776-b4eb-69c081983ab8\",                        [{\"boxpoints\":\"all\",\"jitter\":0.3,\"name\":\"lPulvinar\",\"y\":[0.494967443700863,0.385533359955488],\"type\":\"box\",\"xaxis\":\"x\",\"yaxis\":\"y\"},{\"boxpoints\":\"all\",\"jitter\":0.3,\"name\":\"lAnterior\",\"y\":[0.473759650759349,0.459607877046355],\"type\":\"box\",\"xaxis\":\"x\",\"yaxis\":\"y\"},{\"boxpoints\":\"all\",\"jitter\":0.3,\"name\":\"lMedio_Dorsal\",\"y\":[0.668198396472037,0.535129448334265],\"type\":\"box\",\"xaxis\":\"x\",\"yaxis\":\"y\"},{\"boxpoints\":\"all\",\"jitter\":0.3,\"name\":\"lVentral_Latero_Dorsal\",\"y\":[0.607527957667537,0.386294145806806],\"type\":\"box\",\"xaxis\":\"x\",\"yaxis\":\"y\"},{\"boxpoints\":\"all\",\"jitter\":0.3,\"name\":\"lCentral_Lateral-Lateral_Posterior-Medial_Pulvinar\",\"y\":[0.615590677064912,0.492298068560501],\"type\":\"box\",\"xaxis\":\"x\",\"yaxis\":\"y\"},{\"boxpoints\":\"all\",\"jitter\":0.3,\"name\":\"lVentral_Anterior\",\"y\":[0.691625792331151,0.4007490480992],\"type\":\"box\",\"xaxis\":\"x\",\"yaxis\":\"y\"},{\"boxpoints\":\"all\",\"jitter\":0.3,\"name\":\"lVentral_Latero_Ventral\",\"y\":[0.316375716423883,0.233317665683626],\"type\":\"box\",\"xaxis\":\"x\",\"yaxis\":\"y\"},{\"boxpoints\":\"all\",\"jitter\":0.3,\"name\":\"rPulvinar\",\"y\":[0.553614360066642,0.694392202803111],\"type\":\"box\",\"xaxis\":\"x\",\"yaxis\":\"y\"},{\"boxpoints\":\"all\",\"jitter\":0.3,\"name\":\"rAnterior\",\"y\":[0.501085075621559,0.315647082039423],\"type\":\"box\",\"xaxis\":\"x\",\"yaxis\":\"y\"},{\"boxpoints\":\"all\",\"jitter\":0.3,\"name\":\"rMedio_Dorsal\",\"y\":[0.625104382402953,0.479847090315825],\"type\":\"box\",\"xaxis\":\"x\",\"yaxis\":\"y\"},{\"boxpoints\":\"all\",\"jitter\":0.3,\"name\":\"rVentral_Latero_Dorsal\",\"y\":[0.505983101811637,0.441662775454044],\"type\":\"box\",\"xaxis\":\"x\",\"yaxis\":\"y\"},{\"boxpoints\":\"all\",\"jitter\":0.3,\"name\":\"rCentral_Lateral-Lateral_Posterior-Medial_Pulvinar\",\"y\":[0.449293037930008,0.445090222988426],\"type\":\"box\",\"xaxis\":\"x\",\"yaxis\":\"y\"},{\"boxpoints\":\"all\",\"jitter\":0.3,\"name\":\"rVentral_Anterior\",\"y\":[0.623335760988244,0.366835321290562],\"type\":\"box\",\"xaxis\":\"x\",\"yaxis\":\"y\"},{\"boxpoints\":\"all\",\"jitter\":0.3,\"name\":\"rVentral_Latero_Ventral\",\"y\":[0.248497446804347,0.200776486720889],\"type\":\"box\",\"xaxis\":\"x\",\"yaxis\":\"y\"},{\"boxpoints\":\"all\",\"jitter\":0.3,\"name\":\"Left I IV\",\"y\":[1.50654148514263,1.12144321479111],\"type\":\"box\",\"xaxis\":\"x2\",\"yaxis\":\"y2\"},{\"boxpoints\":\"all\",\"jitter\":0.3,\"name\":\"Right I IV\",\"y\":[1.58912168151203,1.48799225779164],\"type\":\"box\",\"xaxis\":\"x2\",\"yaxis\":\"y2\"},{\"boxpoints\":\"all\",\"jitter\":0.3,\"name\":\"Left V\",\"y\":[2.17108106602561,1.53342363558565],\"type\":\"box\",\"xaxis\":\"x2\",\"yaxis\":\"y2\"},{\"boxpoints\":\"all\",\"jitter\":0.3,\"name\":\"Right V\",\"y\":[2.00659910704589,1.86644325908153],\"type\":\"box\",\"xaxis\":\"x2\",\"yaxis\":\"y2\"},{\"boxpoints\":\"all\",\"jitter\":0.3,\"name\":\"Left VI\",\"y\":[4.22357418006768,3.24728257467469],\"type\":\"box\",\"xaxis\":\"x2\",\"yaxis\":\"y2\"},{\"boxpoints\":\"all\",\"jitter\":0.3,\"name\":\"Vermis VI\",\"y\":[0.803982385528534,0.764309854814968],\"type\":\"box\",\"xaxis\":\"x2\",\"yaxis\":\"y2\"},{\"boxpoints\":\"all\",\"jitter\":0.3,\"name\":\"Right VI\",\"y\":[3.71759892224287,3.21088648931471],\"type\":\"box\",\"xaxis\":\"x2\",\"yaxis\":\"y2\"},{\"boxpoints\":\"all\",\"jitter\":0.3,\"name\":\"Left CrusI\",\"y\":[5.90681719821748,5.82920820984688],\"type\":\"box\",\"xaxis\":\"x2\",\"yaxis\":\"y2\"},{\"boxpoints\":\"all\",\"jitter\":0.3,\"name\":\"Vermis CrusI\",\"y\":[0.0057176333677679,0.0037372551815788],\"type\":\"box\",\"xaxis\":\"x2\",\"yaxis\":\"y2\"},{\"boxpoints\":\"all\",\"jitter\":0.3,\"name\":\"Right CrusI\",\"y\":[6.10051084862169,5.03391013340949],\"type\":\"box\",\"xaxis\":\"x2\",\"yaxis\":\"y2\"},{\"boxpoints\":\"all\",\"jitter\":0.3,\"name\":\"Left CrusII\",\"y\":[5.28956377221692,5.62176896707116],\"type\":\"box\",\"xaxis\":\"x2\",\"yaxis\":\"y2\"},{\"boxpoints\":\"all\",\"jitter\":0.3,\"name\":\"Vermis CrusII\",\"y\":[0.19976030563481,0.247784328658065],\"type\":\"box\",\"xaxis\":\"x2\",\"yaxis\":\"y2\"},{\"boxpoints\":\"all\",\"jitter\":0.3,\"name\":\"Right CrusII\",\"y\":[5.39677135765112,5.61993367551065],\"type\":\"box\",\"xaxis\":\"x2\",\"yaxis\":\"y2\"},{\"boxpoints\":\"all\",\"jitter\":0.3,\"name\":\"Left VIIb\",\"y\":[3.49377592178022,3.64562766527597],\"type\":\"box\",\"xaxis\":\"x2\",\"yaxis\":\"y2\"},{\"boxpoints\":\"all\",\"jitter\":0.3,\"name\":\"Vermis VIIb\",\"y\":[0.0917095837744542,0.0935686335615873],\"type\":\"box\",\"xaxis\":\"x2\",\"yaxis\":\"y2\"},{\"boxpoints\":\"all\",\"jitter\":0.3,\"name\":\"Right VIIb\",\"y\":[3.4055447601918,3.6576943330902],\"type\":\"box\",\"xaxis\":\"x2\",\"yaxis\":\"y2\"},{\"boxpoints\":\"all\",\"jitter\":0.3,\"name\":\"Left VIIIa\",\"y\":[3.17792178351504,3.46431001030351],\"type\":\"box\",\"xaxis\":\"x2\",\"yaxis\":\"y2\"},{\"boxpoints\":\"all\",\"jitter\":0.3,\"name\":\"Vermis VIIIa\",\"y\":[0.504783104622693,0.656670631299242],\"type\":\"box\",\"xaxis\":\"x2\",\"yaxis\":\"y2\"},{\"boxpoints\":\"all\",\"jitter\":0.3,\"name\":\"Right VIIIa\",\"y\":[3.18041196631128,3.38542372585569],\"type\":\"box\",\"xaxis\":\"x2\",\"yaxis\":\"y2\"},{\"boxpoints\":\"all\",\"jitter\":0.3,\"name\":\"Left VIIIb\",\"y\":[1.99831285528282,2.43921191592061],\"type\":\"box\",\"xaxis\":\"x2\",\"yaxis\":\"y2\"},{\"boxpoints\":\"all\",\"jitter\":0.3,\"name\":\"Vermis VIIIb\",\"y\":[0.336140370817393,0.381760808913],\"type\":\"box\",\"xaxis\":\"x2\",\"yaxis\":\"y2\"},{\"boxpoints\":\"all\",\"jitter\":0.3,\"name\":\"Right VIIIb\",\"y\":[2.25008871468795,2.40287857884721],\"type\":\"box\",\"xaxis\":\"x2\",\"yaxis\":\"y2\"},{\"boxpoints\":\"all\",\"jitter\":0.3,\"name\":\"Left IX\",\"y\":[1.47841998909395,1.84292560516479],\"type\":\"box\",\"xaxis\":\"x2\",\"yaxis\":\"y2\"},{\"boxpoints\":\"all\",\"jitter\":0.3,\"name\":\"Vermis IX\",\"y\":[0.307905146213838,0.366607868735026],\"type\":\"box\",\"xaxis\":\"x2\",\"yaxis\":\"y2\"},{\"boxpoints\":\"all\",\"jitter\":0.3,\"name\":\"Right IX\",\"y\":[1.67859205566936,2.02273737853678],\"type\":\"box\",\"xaxis\":\"x2\",\"yaxis\":\"y2\"},{\"boxpoints\":\"all\",\"jitter\":0.3,\"name\":\"Left X\",\"y\":[0.288191467549298,0.327462767371918],\"type\":\"box\",\"xaxis\":\"x2\",\"yaxis\":\"y2\"},{\"boxpoints\":\"all\",\"jitter\":0.3,\"name\":\"Vermis X\",\"y\":[0.148058469176576,0.13645098979335],\"type\":\"box\",\"xaxis\":\"x2\",\"yaxis\":\"y2\"},{\"boxpoints\":\"all\",\"jitter\":0.3,\"name\":\"Right X\",\"y\":[0.332387438804443,0.348251003949466],\"type\":\"box\",\"xaxis\":\"x2\",\"yaxis\":\"y2\"},{\"boxpoints\":\"all\",\"jitter\":0.3,\"name\":\"lAnteroventral\",\"y\":[0.0,0.0],\"type\":\"box\",\"xaxis\":\"x3\",\"yaxis\":\"y3\"},{\"boxpoints\":\"all\",\"jitter\":0.3,\"name\":\"lVentral_Anterior\",\"y\":[0.0933997762709232,0.0495764742798512],\"type\":\"box\",\"xaxis\":\"x3\",\"yaxis\":\"y3\"},{\"boxpoints\":\"all\",\"jitter\":0.3,\"name\":\"lVentral_Lateral_Anterior\",\"y\":[0.0,0.0],\"type\":\"box\",\"xaxis\":\"x3\",\"yaxis\":\"y3\"},{\"boxpoints\":\"all\",\"jitter\":0.3,\"name\":\"lVentral_Lateral_Posterior\",\"y\":[0.137787906462759,0.0860980463614621],\"type\":\"box\",\"xaxis\":\"x3\",\"yaxis\":\"y3\"},{\"boxpoints\":\"all\",\"jitter\":0.3,\"name\":\"lVentral_Posterolateral\",\"y\":[0.0254587629300636,0.0338705909891165],\"type\":\"box\",\"xaxis\":\"x3\",\"yaxis\":\"y3\"},{\"boxpoints\":\"all\",\"jitter\":0.3,\"name\":\"lPulvinar\",\"y\":[0.472124359335686,0.258200019997966],\"type\":\"box\",\"xaxis\":\"x3\",\"yaxis\":\"y3\"},{\"boxpoints\":\"all\",\"jitter\":0.3,\"name\":\"lLateral_Geniculate\",\"y\":[0.128733026472406,0.0720784373207696],\"type\":\"box\",\"xaxis\":\"x3\",\"yaxis\":\"y3\"},{\"boxpoints\":\"all\",\"jitter\":0.3,\"name\":\"lMedial_Geniculate\",\"y\":[0.995240750955277,0.744600048094053],\"type\":\"box\",\"xaxis\":\"x3\",\"yaxis\":\"y3\"},{\"boxpoints\":\"all\",\"jitter\":0.3,\"name\":\"lCentromedian\",\"y\":[0.0084470386658738,0.0035490199181905],\"type\":\"box\",\"xaxis\":\"x3\",\"yaxis\":\"y3\"},{\"boxpoints\":\"all\",\"jitter\":0.3,\"name\":\"lMediodorsal\",\"y\":[0.0486979228382201,0.0286392180635289],\"type\":\"box\",\"xaxis\":\"x3\",\"yaxis\":\"y3\"},{\"boxpoints\":\"all\",\"jitter\":0.3,\"name\":\"lHabenula\",\"y\":[0.060831227022328,0.0459647093812771],\"type\":\"box\",\"xaxis\":\"x3\",\"yaxis\":\"y3\"},{\"boxpoints\":\"all\",\"jitter\":0.3,\"name\":\"rAnteroventral\",\"y\":[0.5259477538369,0.334721589017837],\"type\":\"box\",\"xaxis\":\"x3\",\"yaxis\":\"y3\"},{\"boxpoints\":\"all\",\"jitter\":0.3,\"name\":\"rVentral_Anterior\",\"y\":[0.0887801805121144,0.0589921612428043],\"type\":\"box\",\"xaxis\":\"x3\",\"yaxis\":\"y3\"},{\"boxpoints\":\"all\",\"jitter\":0.3,\"name\":\"rVentral_Lateral_Anterior\",\"y\":[0.0067490035506905,0.0064588240042429],\"type\":\"box\",\"xaxis\":\"x3\",\"yaxis\":\"y3\"},{\"boxpoints\":\"all\",\"jitter\":0.3,\"name\":\"rVentral_Lateral_Posterior\",\"y\":[0.150607483448388,0.089454908996896],\"type\":\"box\",\"xaxis\":\"x3\",\"yaxis\":\"y3\"},{\"boxpoints\":\"all\",\"jitter\":0.3,\"name\":\"rVentral_Posterolateral\",\"y\":[0.0228901415787503,0.0131607853813997],\"type\":\"box\",\"xaxis\":\"x3\",\"yaxis\":\"y3\"},{\"boxpoints\":\"all\",\"jitter\":0.3,\"name\":\"rPulvinar\",\"y\":[0.531367353488096,0.24293335222743],\"type\":\"box\",\"xaxis\":\"x3\",\"yaxis\":\"y3\"},{\"boxpoints\":\"all\",\"jitter\":0.3,\"name\":\"rLateral_Geniculate\",\"y\":[0.103301714931835,0.0745607903093257],\"type\":\"box\",\"xaxis\":\"x3\",\"yaxis\":\"y3\"},{\"boxpoints\":\"all\",\"jitter\":0.3,\"name\":\"rMedial_Geniculate\",\"y\":[0.799856905459943,0.829309857527243],\"type\":\"box\",\"xaxis\":\"x3\",\"yaxis\":\"y3\"},{\"boxpoints\":\"all\",\"jitter\":0.3,\"name\":\"rCentromedian\",\"y\":[0.0090705665688827,0.0133882363308694],\"type\":\"box\",\"xaxis\":\"x3\",\"yaxis\":\"y3\"},{\"boxpoints\":\"all\",\"jitter\":0.3,\"name\":\"rMediodorsal\",\"y\":[0.037690106073045,0.0576627488671786],\"type\":\"box\",\"xaxis\":\"x3\",\"yaxis\":\"y3\"},{\"boxpoints\":\"all\",\"jitter\":0.3,\"name\":\"rHabenula\",\"y\":[0.0575802545178511,0.0563607884916081],\"type\":\"box\",\"xaxis\":\"x3\",\"yaxis\":\"y3\"}],                        {\"template\":{\"data\":{\"histogram2dcontour\":[{\"type\":\"histogram2dcontour\",\"colorbar\":{\"outlinewidth\":0,\"ticks\":\"\"},\"colorscale\":[[0.0,\"#0d0887\"],[0.1111111111111111,\"#46039f\"],[0.2222222222222222,\"#7201a8\"],[0.3333333333333333,\"#9c179e\"],[0.4444444444444444,\"#bd3786\"],[0.5555555555555556,\"#d8576b\"],[0.6666666666666666,\"#ed7953\"],[0.7777777777777778,\"#fb9f3a\"],[0.8888888888888888,\"#fdca26\"],[1.0,\"#f0f921\"]]}],\"choropleth\":[{\"type\":\"choropleth\",\"colorbar\":{\"outlinewidth\":0,\"ticks\":\"\"}}],\"histogram2d\":[{\"type\":\"histogram2d\",\"colorbar\":{\"outlinewidth\":0,\"ticks\":\"\"},\"colorscale\":[[0.0,\"#0d0887\"],[0.1111111111111111,\"#46039f\"],[0.2222222222222222,\"#7201a8\"],[0.3333333333333333,\"#9c179e\"],[0.4444444444444444,\"#bd3786\"],[0.5555555555555556,\"#d8576b\"],[0.6666666666666666,\"#ed7953\"],[0.7777777777777778,\"#fb9f3a\"],[0.8888888888888888,\"#fdca26\"],[1.0,\"#f0f921\"]]}],\"heatmap\":[{\"type\":\"heatmap\",\"colorbar\":{\"outlinewidth\":0,\"ticks\":\"\"},\"colorscale\":[[0.0,\"#0d0887\"],[0.1111111111111111,\"#46039f\"],[0.2222222222222222,\"#7201a8\"],[0.3333333333333333,\"#9c179e\"],[0.4444444444444444,\"#bd3786\"],[0.5555555555555556,\"#d8576b\"],[0.6666666666666666,\"#ed7953\"],[0.7777777777777778,\"#fb9f3a\"],[0.8888888888888888,\"#fdca26\"],[1.0,\"#f0f921\"]]}],\"heatmapgl\":[{\"type\":\"heatmapgl\",\"colorbar\":{\"outlinewidth\":0,\"ticks\":\"\"},\"colorscale\":[[0.0,\"#0d0887\"],[0.1111111111111111,\"#46039f\"],[0.2222222222222222,\"#7201a8\"],[0.3333333333333333,\"#9c179e\"],[0.4444444444444444,\"#bd3786\"],[0.5555555555555556,\"#d8576b\"],[0.6666666666666666,\"#ed7953\"],[0.7777777777777778,\"#fb9f3a\"],[0.8888888888888888,\"#fdca26\"],[1.0,\"#f0f921\"]]}],\"contourcarpet\":[{\"type\":\"contourcarpet\",\"colorbar\":{\"outlinewidth\":0,\"ticks\":\"\"}}],\"contour\":[{\"type\":\"contour\",\"colorbar\":{\"outlinewidth\":0,\"ticks\":\"\"},\"colorscale\":[[0.0,\"#0d0887\"],[0.1111111111111111,\"#46039f\"],[0.2222222222222222,\"#7201a8\"],[0.3333333333333333,\"#9c179e\"],[0.4444444444444444,\"#bd3786\"],[0.5555555555555556,\"#d8576b\"],[0.6666666666666666,\"#ed7953\"],[0.7777777777777778,\"#fb9f3a\"],[0.8888888888888888,\"#fdca26\"],[1.0,\"#f0f921\"]]}],\"surface\":[{\"type\":\"surface\",\"colorbar\":{\"outlinewidth\":0,\"ticks\":\"\"},\"colorscale\":[[0.0,\"#0d0887\"],[0.1111111111111111,\"#46039f\"],[0.2222222222222222,\"#7201a8\"],[0.3333333333333333,\"#9c179e\"],[0.4444444444444444,\"#bd3786\"],[0.5555555555555556,\"#d8576b\"],[0.6666666666666666,\"#ed7953\"],[0.7777777777777778,\"#fb9f3a\"],[0.8888888888888888,\"#fdca26\"],[1.0,\"#f0f921\"]]}],\"mesh3d\":[{\"type\":\"mesh3d\",\"colorbar\":{\"outlinewidth\":0,\"ticks\":\"\"}}],\"scatter\":[{\"fillpattern\":{\"fillmode\":\"overlay\",\"size\":10,\"solidity\":0.2},\"type\":\"scatter\"}],\"parcoords\":[{\"type\":\"parcoords\",\"line\":{\"colorbar\":{\"outlinewidth\":0,\"ticks\":\"\"}}}],\"scatterpolargl\":[{\"type\":\"scatterpolargl\",\"marker\":{\"colorbar\":{\"outlinewidth\":0,\"ticks\":\"\"}}}],\"bar\":[{\"error_x\":{\"color\":\"#2a3f5f\"},\"error_y\":{\"color\":\"#2a3f5f\"},\"marker\":{\"line\":{\"color\":\"#E5ECF6\",\"width\":0.5},\"pattern\":{\"fillmode\":\"overlay\",\"size\":10,\"solidity\":0.2}},\"type\":\"bar\"}],\"scattergeo\":[{\"type\":\"scattergeo\",\"marker\":{\"colorbar\":{\"outlinewidth\":0,\"ticks\":\"\"}}}],\"scatterpolar\":[{\"type\":\"scatterpolar\",\"marker\":{\"colorbar\":{\"outlinewidth\":0,\"ticks\":\"\"}}}],\"histogram\":[{\"marker\":{\"pattern\":{\"fillmode\":\"overlay\",\"size\":10,\"solidity\":0.2}},\"type\":\"histogram\"}],\"scattergl\":[{\"type\":\"scattergl\",\"marker\":{\"colorbar\":{\"outlinewidth\":0,\"ticks\":\"\"}}}],\"scatter3d\":[{\"type\":\"scatter3d\",\"line\":{\"colorbar\":{\"outlinewidth\":0,\"ticks\":\"\"}},\"marker\":{\"colorbar\":{\"outlinewidth\":0,\"ticks\":\"\"}}}],\"scattermapbox\":[{\"type\":\"scattermapbox\",\"marker\":{\"colorbar\":{\"outlinewidth\":0,\"ticks\":\"\"}}}],\"scatterternary\":[{\"type\":\"scatterternary\",\"marker\":{\"colorbar\":{\"outlinewidth\":0,\"ticks\":\"\"}}}],\"scattercarpet\":[{\"type\":\"scattercarpet\",\"marker\":{\"colorbar\":{\"outlinewidth\":0,\"ticks\":\"\"}}}],\"carpet\":[{\"aaxis\":{\"endlinecolor\":\"#2a3f5f\",\"gridcolor\":\"white\",\"linecolor\":\"white\",\"minorgridcolor\":\"white\",\"startlinecolor\":\"#2a3f5f\"},\"baxis\":{\"endlinecolor\":\"#2a3f5f\",\"gridcolor\":\"white\",\"linecolor\":\"white\",\"minorgridcolor\":\"white\",\"startlinecolor\":\"#2a3f5f\"},\"type\":\"carpet\"}],\"table\":[{\"cells\":{\"fill\":{\"color\":\"#EBF0F8\"},\"line\":{\"color\":\"white\"}},\"header\":{\"fill\":{\"color\":\"#C8D4E3\"},\"line\":{\"color\":\"white\"}},\"type\":\"table\"}],\"barpolar\":[{\"marker\":{\"line\":{\"color\":\"#E5ECF6\",\"width\":0.5},\"pattern\":{\"fillmode\":\"overlay\",\"size\":10,\"solidity\":0.2}},\"type\":\"barpolar\"}],\"pie\":[{\"automargin\":true,\"type\":\"pie\"}]},\"layout\":{\"autotypenumbers\":\"strict\",\"colorway\":[\"#636efa\",\"#EF553B\",\"#00cc96\",\"#ab63fa\",\"#FFA15A\",\"#19d3f3\",\"#FF6692\",\"#B6E880\",\"#FF97FF\",\"#FECB52\"],\"font\":{\"color\":\"#2a3f5f\"},\"hovermode\":\"closest\",\"hoverlabel\":{\"align\":\"left\"},\"paper_bgcolor\":\"white\",\"plot_bgcolor\":\"#E5ECF6\",\"polar\":{\"bgcolor\":\"#E5ECF6\",\"angularaxis\":{\"gridcolor\":\"white\",\"linecolor\":\"white\",\"ticks\":\"\"},\"radialaxis\":{\"gridcolor\":\"white\",\"linecolor\":\"white\",\"ticks\":\"\"}},\"ternary\":{\"bgcolor\":\"#E5ECF6\",\"aaxis\":{\"gridcolor\":\"white\",\"linecolor\":\"white\",\"ticks\":\"\"},\"baxis\":{\"gridcolor\":\"white\",\"linecolor\":\"white\",\"ticks\":\"\"},\"caxis\":{\"gridcolor\":\"white\",\"linecolor\":\"white\",\"ticks\":\"\"}},\"coloraxis\":{\"colorbar\":{\"outlinewidth\":0,\"ticks\":\"\"}},\"colorscale\":{\"sequential\":[[0.0,\"#0d0887\"],[0.1111111111111111,\"#46039f\"],[0.2222222222222222,\"#7201a8\"],[0.3333333333333333,\"#9c179e\"],[0.4444444444444444,\"#bd3786\"],[0.5555555555555556,\"#d8576b\"],[0.6666666666666666,\"#ed7953\"],[0.7777777777777778,\"#fb9f3a\"],[0.8888888888888888,\"#fdca26\"],[1.0,\"#f0f921\"]],\"sequentialminus\":[[0.0,\"#0d0887\"],[0.1111111111111111,\"#46039f\"],[0.2222222222222222,\"#7201a8\"],[0.3333333333333333,\"#9c179e\"],[0.4444444444444444,\"#bd3786\"],[0.5555555555555556,\"#d8576b\"],[0.6666666666666666,\"#ed7953\"],[0.7777777777777778,\"#fb9f3a\"],[0.8888888888888888,\"#fdca26\"],[1.0,\"#f0f921\"]],\"diverging\":[[0,\"#8e0152\"],[0.1,\"#c51b7d\"],[0.2,\"#de77ae\"],[0.3,\"#f1b6da\"],[0.4,\"#fde0ef\"],[0.5,\"#f7f7f7\"],[0.6,\"#e6f5d0\"],[0.7,\"#b8e186\"],[0.8,\"#7fbc41\"],[0.9,\"#4d9221\"],[1,\"#276419\"]]},\"xaxis\":{\"gridcolor\":\"white\",\"linecolor\":\"white\",\"ticks\":\"\",\"title\":{\"standoff\":15},\"zerolinecolor\":\"white\",\"automargin\":true,\"zerolinewidth\":2},\"yaxis\":{\"gridcolor\":\"white\",\"linecolor\":\"white\",\"ticks\":\"\",\"title\":{\"standoff\":15},\"zerolinecolor\":\"white\",\"automargin\":true,\"zerolinewidth\":2},\"scene\":{\"xaxis\":{\"backgroundcolor\":\"#E5ECF6\",\"gridcolor\":\"white\",\"linecolor\":\"white\",\"showbackground\":true,\"ticks\":\"\",\"zerolinecolor\":\"white\",\"gridwidth\":2},\"yaxis\":{\"backgroundcolor\":\"#E5ECF6\",\"gridcolor\":\"white\",\"linecolor\":\"white\",\"showbackground\":true,\"ticks\":\"\",\"zerolinecolor\":\"white\",\"gridwidth\":2},\"zaxis\":{\"backgroundcolor\":\"#E5ECF6\",\"gridcolor\":\"white\",\"linecolor\":\"white\",\"showbackground\":true,\"ticks\":\"\",\"zerolinecolor\":\"white\",\"gridwidth\":2}},\"shapedefaults\":{\"line\":{\"color\":\"#2a3f5f\"}},\"annotationdefaults\":{\"arrowcolor\":\"#2a3f5f\",\"arrowhead\":0,\"arrowwidth\":1},\"geo\":{\"bgcolor\":\"white\",\"landcolor\":\"#E5ECF6\",\"subunitcolor\":\"white\",\"showland\":true,\"showlakes\":true,\"lakecolor\":\"white\"},\"title\":{\"x\":0.05},\"mapbox\":{\"style\":\"light\"}}},\"xaxis\":{\"anchor\":\"y\",\"domain\":[0.0,1.0]},\"yaxis\":{\"anchor\":\"x\",\"domain\":[0.7333333333333333,1.0]},\"xaxis2\":{\"anchor\":\"y2\",\"domain\":[0.0,1.0]},\"yaxis2\":{\"anchor\":\"x2\",\"domain\":[0.36666666666666664,0.6333333333333333]},\"xaxis3\":{\"anchor\":\"y3\",\"domain\":[0.0,1.0]},\"yaxis3\":{\"anchor\":\"x3\",\"domain\":[0.0,0.26666666666666666]},\"height\":1200},                        {\"responsive\": true}                    ).then(function(){\n",
       "                            \n",
       "var gd = document.getElementById('de8f08d4-d7f2-4776-b4eb-69c081983ab8');\n",
       "var x = new MutationObserver(function (mutations, observer) {{\n",
       "        var display = window.getComputedStyle(gd).display;\n",
       "        if (!display || display === 'none') {{\n",
       "            console.log([gd, 'removed!']);\n",
       "            Plotly.purge(gd);\n",
       "            observer.disconnect();\n",
       "        }}\n",
       "}});\n",
       "\n",
       "// Listen for the removal of the full notebook cells\n",
       "var notebookContainer = gd.closest('#notebook-container');\n",
       "if (notebookContainer) {{\n",
       "    x.observe(notebookContainer, {childList: true});\n",
       "}}\n",
       "\n",
       "// Listen for the clearing of the current output cell\n",
       "var outputEl = gd.closest('.output');\n",
       "if (outputEl) {{\n",
       "    x.observe(outputEl, {childList: true});\n",
       "}}\n",
       "\n",
       "                        })                };                });            </script>        </div>"
      ]
     },
     "metadata": {},
     "output_type": "display_data"
    }
   ],
   "source": [
    "def plot_distribution(paths: list, measurement: str):\n",
    "    total_fig = make_subplots(rows=len(paths), cols=1)\n",
    "    total_fig_data = []\n",
    "\n",
    "    for path in paths: \n",
    "        df = pd.read_csv(path, index_col=[0])\n",
    "        df = df.loc[df['Volume'] == measurement]\n",
    "        rois = df.columns[1:]   \n",
    "        \n",
    "        fig = go.Figure()\n",
    "\n",
    "        for roi in rois:\n",
    "            fig.add_trace(go.Box(y=df[roi], name=roi))\n",
    "\n",
    "        fig.update_layout(boxmode='group') #to group boxes of the same type.\n",
    "        fig.update_traces(boxpoints='all', jitter=.3)\n",
    "        \n",
    "        total_fig_data.append(fig)\n",
    "    \n",
    "    for idx, fig in enumerate(total_fig_data):\n",
    "        for trace in fig.data:\n",
    "            total_fig.add_trace(trace, row=idx+1, col=1)\n",
    "    \n",
    "    total_fig.update_layout(height=1200)\n",
    "    total_fig.show()\n",
    "\n",
    "plot_distribution(paths_t, measurement=\"Vgm\")\n"
   ]
  },
  {
   "cell_type": "code",
   "execution_count": 13,
   "metadata": {},
   "outputs": [
    {
     "data": {
      "application/vnd.plotly.v1+json": {
       "config": {
        "plotlyServerURL": "https://plot.ly"
       },
       "data": [
        {
         "boxpoints": "all",
         "jitter": 0.3,
         "name": "Right I IV",
         "type": "box",
         "xaxis": "x",
         "y": [
          1.58912168151203,
          0.642574934641154,
          1.48799225779164,
          0.750976525699135
         ],
         "yaxis": "y"
        },
        {
         "boxpoints": "all",
         "jitter": 0.3,
         "name": "Left V",
         "type": "box",
         "xaxis": "x2",
         "y": [
          2.17108106602561,
          0.81226864613356,
          1.53342363558565,
          1.4246079410777
         ],
         "yaxis": "y2"
        },
        {
         "boxpoints": "all",
         "jitter": 0.3,
         "name": "Right V",
         "type": "box",
         "xaxis": "x3",
         "y": [
          2.00659910704589,
          0.560316308808427,
          1.86644325908153,
          0.798815744426205
         ],
         "yaxis": "y3"
        },
        {
         "boxpoints": "all",
         "jitter": 0.3,
         "name": "Left VI",
         "type": "box",
         "xaxis": "x4",
         "y": [
          4.22357418006768,
          1.41480053896041,
          3.24728257467469,
          2.37935702891176
         ],
         "yaxis": "y4"
        },
        {
         "boxpoints": "all",
         "jitter": 0.3,
         "name": "Vermis VI",
         "type": "box",
         "xaxis": "x5",
         "y": [
          0.803982385528534,
          0.248175878210409,
          0.764309854814968,
          0.30027061085543
         ],
         "yaxis": "y5"
        },
        {
         "boxpoints": "all",
         "jitter": 0.3,
         "name": "Right VI",
         "type": "box",
         "xaxis": "x6",
         "y": [
          3.71759892224287,
          0.981166284737514,
          3.21088648931471,
          1.78536483561753
         ],
         "yaxis": "y6"
        },
        {
         "boxpoints": "all",
         "jitter": 0.3,
         "name": "Left CrusI",
         "type": "box",
         "xaxis": "x7",
         "y": [
          5.90681719821748,
          1.40630644253894,
          5.82920820984688,
          1.15965498875987
         ],
         "yaxis": "y7"
        },
        {
         "boxpoints": "all",
         "jitter": 0.3,
         "name": "Vermis CrusI",
         "type": "box",
         "xaxis": "x8",
         "y": [
          0.0057176333677679,
          0,
          0.0037372551815788,
          0.0003529412045347
         ],
         "yaxis": "y8"
        },
        {
         "boxpoints": "all",
         "jitter": 0.3,
         "name": "Right CrusI",
         "type": "box",
         "xaxis": "x9",
         "y": [
          6.10051084862169,
          1.47257687133827,
          5.03391013340949,
          2.16721191815888
         ],
         "yaxis": "y9"
        },
        {
         "boxpoints": "all",
         "jitter": 0.3,
         "name": "Left CrusII",
         "type": "box",
         "xaxis": "x10",
         "y": [
          5.28956377221692,
          1.54376493220112,
          5.62176896707116,
          0.783843195733653
         ],
         "yaxis": "y10"
        },
        {
         "boxpoints": "all",
         "jitter": 0.3,
         "name": "Vermis CrusII",
         "type": "box",
         "xaxis": "x11",
         "y": [
          0.19976030563481,
          0.0790743214527765,
          0.247784328658065,
          0.0398156890586584
         ],
         "yaxis": "y11"
        },
        {
         "boxpoints": "all",
         "jitter": 0.3,
         "name": "Right CrusII",
         "type": "box",
         "xaxis": "x12",
         "y": [
          5.39677135765112,
          1.19610694445831,
          5.61993367551065,
          0.886905946980293
         ],
         "yaxis": "y12"
        },
        {
         "boxpoints": "all",
         "jitter": 0.3,
         "name": "Left VIIb",
         "type": "box",
         "xaxis": "x13",
         "y": [
          3.49377592178022,
          0.64816315644433,
          3.64562766527597,
          0.214082369470238
         ],
         "yaxis": "y13"
        },
        {
         "boxpoints": "all",
         "jitter": 0.3,
         "name": "Vermis VIIb",
         "type": "box",
         "xaxis": "x14",
         "y": [
          0.0917095837744542,
          0.0282940500814282,
          0.0935686335615873,
          0.0376745126023403
         ],
         "yaxis": "y14"
        },
        {
         "boxpoints": "all",
         "jitter": 0.3,
         "name": "Right VIIb",
         "type": "box",
         "xaxis": "x15",
         "y": [
          3.4055447601918,
          0.604633850981986,
          3.6576943330902,
          0.351721594268732
         ],
         "yaxis": "y15"
        },
        {
         "boxpoints": "all",
         "jitter": 0.3,
         "name": "Left VIIIa",
         "type": "box",
         "xaxis": "x16",
         "y": [
          3.17792178351504,
          0.680288571829963,
          3.46431001030351,
          0.295196100685344
         ],
         "yaxis": "y16"
        },
        {
         "boxpoints": "all",
         "jitter": 0.3,
         "name": "Vermis VIIIa",
         "type": "box",
         "xaxis": "x17",
         "y": [
          0.504783104622693,
          0.411814701449425,
          0.656670631299242,
          0.247580411072777
         ],
         "yaxis": "y17"
        },
        {
         "boxpoints": "all",
         "jitter": 0.3,
         "name": "Right VIIIa",
         "type": "box",
         "xaxis": "x18",
         "y": [
          3.18041196631128,
          0.540434001721328,
          3.38542372585569,
          0.286258843852993
         ],
         "yaxis": "y18"
        },
        {
         "boxpoints": "all",
         "jitter": 0.3,
         "name": "Left VIIIb",
         "type": "box",
         "xaxis": "x19",
         "y": [
          1.99831285528282,
          0.602837774564727,
          2.43921191592061,
          0.361678459900323
         ],
         "yaxis": "y19"
        },
        {
         "boxpoints": "all",
         "jitter": 0.3,
         "name": "Vermis VIIIb",
         "type": "box",
         "xaxis": "x20",
         "y": [
          0.336140370817393,
          0.0932468365745181,
          0.381760808913,
          0.0591372596771175
         ],
         "yaxis": "y20"
        },
        {
         "boxpoints": "all",
         "jitter": 0.3,
         "name": "Right VIIIb",
         "type": "box",
         "xaxis": "x21",
         "y": [
          2.25008871468795,
          0.387363780741833,
          2.40287857884721,
          0.29300002243615
         ],
         "yaxis": "y21"
        },
        {
         "boxpoints": "all",
         "jitter": 0.3,
         "name": "Left IX",
         "type": "box",
         "xaxis": "x22",
         "y": [
          1.47841998909395,
          0.616469116525632,
          1.84292560516479,
          0.336392182370904
         ],
         "yaxis": "y22"
        },
        {
         "boxpoints": "all",
         "jitter": 0.3,
         "name": "Vermis IX",
         "type": "box",
         "xaxis": "x23",
         "y": [
          0.307905146213838,
          0.243560203369803,
          0.366607868735026,
          0.182129425873228
         ],
         "yaxis": "y23"
        },
        {
         "boxpoints": "all",
         "jitter": 0.3,
         "name": "Right IX",
         "type": "box",
         "xaxis": "x24",
         "y": [
          1.67859205566936,
          0.653312164911592,
          2.02273737853678,
          0.359192184434188
         ],
         "yaxis": "y24"
        },
        {
         "boxpoints": "all",
         "jitter": 0.3,
         "name": "Left X",
         "type": "box",
         "xaxis": "x25",
         "y": [
          0.288191467549298,
          0.127850675112389,
          0.327462767371918,
          0.124533342845373
         ],
         "yaxis": "y25"
        },
        {
         "boxpoints": "all",
         "jitter": 0.3,
         "name": "Vermis X",
         "type": "box",
         "xaxis": "x26",
         "y": [
          0.148058469176576,
          0.033066587958075,
          0.13645098979335,
          0.0468313762820942
         ],
         "yaxis": "y26"
        },
        {
         "boxpoints": "all",
         "jitter": 0.3,
         "name": "Right X",
         "type": "box",
         "xaxis": "x27",
         "y": [
          0.332387438804443,
          0.078842948886074,
          0.348251003949466,
          0.0990666736591678
         ],
         "yaxis": "y27"
        }
       ],
       "layout": {
        "template": {
         "data": {
          "bar": [
           {
            "error_x": {
             "color": "#2a3f5f"
            },
            "error_y": {
             "color": "#2a3f5f"
            },
            "marker": {
             "line": {
              "color": "#E5ECF6",
              "width": 0.5
             },
             "pattern": {
              "fillmode": "overlay",
              "size": 10,
              "solidity": 0.2
             }
            },
            "type": "bar"
           }
          ],
          "barpolar": [
           {
            "marker": {
             "line": {
              "color": "#E5ECF6",
              "width": 0.5
             },
             "pattern": {
              "fillmode": "overlay",
              "size": 10,
              "solidity": 0.2
             }
            },
            "type": "barpolar"
           }
          ],
          "carpet": [
           {
            "aaxis": {
             "endlinecolor": "#2a3f5f",
             "gridcolor": "white",
             "linecolor": "white",
             "minorgridcolor": "white",
             "startlinecolor": "#2a3f5f"
            },
            "baxis": {
             "endlinecolor": "#2a3f5f",
             "gridcolor": "white",
             "linecolor": "white",
             "minorgridcolor": "white",
             "startlinecolor": "#2a3f5f"
            },
            "type": "carpet"
           }
          ],
          "choropleth": [
           {
            "colorbar": {
             "outlinewidth": 0,
             "ticks": ""
            },
            "type": "choropleth"
           }
          ],
          "contour": [
           {
            "colorbar": {
             "outlinewidth": 0,
             "ticks": ""
            },
            "colorscale": [
             [
              0,
              "#0d0887"
             ],
             [
              0.1111111111111111,
              "#46039f"
             ],
             [
              0.2222222222222222,
              "#7201a8"
             ],
             [
              0.3333333333333333,
              "#9c179e"
             ],
             [
              0.4444444444444444,
              "#bd3786"
             ],
             [
              0.5555555555555556,
              "#d8576b"
             ],
             [
              0.6666666666666666,
              "#ed7953"
             ],
             [
              0.7777777777777778,
              "#fb9f3a"
             ],
             [
              0.8888888888888888,
              "#fdca26"
             ],
             [
              1,
              "#f0f921"
             ]
            ],
            "type": "contour"
           }
          ],
          "contourcarpet": [
           {
            "colorbar": {
             "outlinewidth": 0,
             "ticks": ""
            },
            "type": "contourcarpet"
           }
          ],
          "heatmap": [
           {
            "colorbar": {
             "outlinewidth": 0,
             "ticks": ""
            },
            "colorscale": [
             [
              0,
              "#0d0887"
             ],
             [
              0.1111111111111111,
              "#46039f"
             ],
             [
              0.2222222222222222,
              "#7201a8"
             ],
             [
              0.3333333333333333,
              "#9c179e"
             ],
             [
              0.4444444444444444,
              "#bd3786"
             ],
             [
              0.5555555555555556,
              "#d8576b"
             ],
             [
              0.6666666666666666,
              "#ed7953"
             ],
             [
              0.7777777777777778,
              "#fb9f3a"
             ],
             [
              0.8888888888888888,
              "#fdca26"
             ],
             [
              1,
              "#f0f921"
             ]
            ],
            "type": "heatmap"
           }
          ],
          "heatmapgl": [
           {
            "colorbar": {
             "outlinewidth": 0,
             "ticks": ""
            },
            "colorscale": [
             [
              0,
              "#0d0887"
             ],
             [
              0.1111111111111111,
              "#46039f"
             ],
             [
              0.2222222222222222,
              "#7201a8"
             ],
             [
              0.3333333333333333,
              "#9c179e"
             ],
             [
              0.4444444444444444,
              "#bd3786"
             ],
             [
              0.5555555555555556,
              "#d8576b"
             ],
             [
              0.6666666666666666,
              "#ed7953"
             ],
             [
              0.7777777777777778,
              "#fb9f3a"
             ],
             [
              0.8888888888888888,
              "#fdca26"
             ],
             [
              1,
              "#f0f921"
             ]
            ],
            "type": "heatmapgl"
           }
          ],
          "histogram": [
           {
            "marker": {
             "pattern": {
              "fillmode": "overlay",
              "size": 10,
              "solidity": 0.2
             }
            },
            "type": "histogram"
           }
          ],
          "histogram2d": [
           {
            "colorbar": {
             "outlinewidth": 0,
             "ticks": ""
            },
            "colorscale": [
             [
              0,
              "#0d0887"
             ],
             [
              0.1111111111111111,
              "#46039f"
             ],
             [
              0.2222222222222222,
              "#7201a8"
             ],
             [
              0.3333333333333333,
              "#9c179e"
             ],
             [
              0.4444444444444444,
              "#bd3786"
             ],
             [
              0.5555555555555556,
              "#d8576b"
             ],
             [
              0.6666666666666666,
              "#ed7953"
             ],
             [
              0.7777777777777778,
              "#fb9f3a"
             ],
             [
              0.8888888888888888,
              "#fdca26"
             ],
             [
              1,
              "#f0f921"
             ]
            ],
            "type": "histogram2d"
           }
          ],
          "histogram2dcontour": [
           {
            "colorbar": {
             "outlinewidth": 0,
             "ticks": ""
            },
            "colorscale": [
             [
              0,
              "#0d0887"
             ],
             [
              0.1111111111111111,
              "#46039f"
             ],
             [
              0.2222222222222222,
              "#7201a8"
             ],
             [
              0.3333333333333333,
              "#9c179e"
             ],
             [
              0.4444444444444444,
              "#bd3786"
             ],
             [
              0.5555555555555556,
              "#d8576b"
             ],
             [
              0.6666666666666666,
              "#ed7953"
             ],
             [
              0.7777777777777778,
              "#fb9f3a"
             ],
             [
              0.8888888888888888,
              "#fdca26"
             ],
             [
              1,
              "#f0f921"
             ]
            ],
            "type": "histogram2dcontour"
           }
          ],
          "mesh3d": [
           {
            "colorbar": {
             "outlinewidth": 0,
             "ticks": ""
            },
            "type": "mesh3d"
           }
          ],
          "parcoords": [
           {
            "line": {
             "colorbar": {
              "outlinewidth": 0,
              "ticks": ""
             }
            },
            "type": "parcoords"
           }
          ],
          "pie": [
           {
            "automargin": true,
            "type": "pie"
           }
          ],
          "scatter": [
           {
            "fillpattern": {
             "fillmode": "overlay",
             "size": 10,
             "solidity": 0.2
            },
            "type": "scatter"
           }
          ],
          "scatter3d": [
           {
            "line": {
             "colorbar": {
              "outlinewidth": 0,
              "ticks": ""
             }
            },
            "marker": {
             "colorbar": {
              "outlinewidth": 0,
              "ticks": ""
             }
            },
            "type": "scatter3d"
           }
          ],
          "scattercarpet": [
           {
            "marker": {
             "colorbar": {
              "outlinewidth": 0,
              "ticks": ""
             }
            },
            "type": "scattercarpet"
           }
          ],
          "scattergeo": [
           {
            "marker": {
             "colorbar": {
              "outlinewidth": 0,
              "ticks": ""
             }
            },
            "type": "scattergeo"
           }
          ],
          "scattergl": [
           {
            "marker": {
             "colorbar": {
              "outlinewidth": 0,
              "ticks": ""
             }
            },
            "type": "scattergl"
           }
          ],
          "scattermapbox": [
           {
            "marker": {
             "colorbar": {
              "outlinewidth": 0,
              "ticks": ""
             }
            },
            "type": "scattermapbox"
           }
          ],
          "scatterpolar": [
           {
            "marker": {
             "colorbar": {
              "outlinewidth": 0,
              "ticks": ""
             }
            },
            "type": "scatterpolar"
           }
          ],
          "scatterpolargl": [
           {
            "marker": {
             "colorbar": {
              "outlinewidth": 0,
              "ticks": ""
             }
            },
            "type": "scatterpolargl"
           }
          ],
          "scatterternary": [
           {
            "marker": {
             "colorbar": {
              "outlinewidth": 0,
              "ticks": ""
             }
            },
            "type": "scatterternary"
           }
          ],
          "surface": [
           {
            "colorbar": {
             "outlinewidth": 0,
             "ticks": ""
            },
            "colorscale": [
             [
              0,
              "#0d0887"
             ],
             [
              0.1111111111111111,
              "#46039f"
             ],
             [
              0.2222222222222222,
              "#7201a8"
             ],
             [
              0.3333333333333333,
              "#9c179e"
             ],
             [
              0.4444444444444444,
              "#bd3786"
             ],
             [
              0.5555555555555556,
              "#d8576b"
             ],
             [
              0.6666666666666666,
              "#ed7953"
             ],
             [
              0.7777777777777778,
              "#fb9f3a"
             ],
             [
              0.8888888888888888,
              "#fdca26"
             ],
             [
              1,
              "#f0f921"
             ]
            ],
            "type": "surface"
           }
          ],
          "table": [
           {
            "cells": {
             "fill": {
              "color": "#EBF0F8"
             },
             "line": {
              "color": "white"
             }
            },
            "header": {
             "fill": {
              "color": "#C8D4E3"
             },
             "line": {
              "color": "white"
             }
            },
            "type": "table"
           }
          ]
         },
         "layout": {
          "annotationdefaults": {
           "arrowcolor": "#2a3f5f",
           "arrowhead": 0,
           "arrowwidth": 1
          },
          "autotypenumbers": "strict",
          "coloraxis": {
           "colorbar": {
            "outlinewidth": 0,
            "ticks": ""
           }
          },
          "colorscale": {
           "diverging": [
            [
             0,
             "#8e0152"
            ],
            [
             0.1,
             "#c51b7d"
            ],
            [
             0.2,
             "#de77ae"
            ],
            [
             0.3,
             "#f1b6da"
            ],
            [
             0.4,
             "#fde0ef"
            ],
            [
             0.5,
             "#f7f7f7"
            ],
            [
             0.6,
             "#e6f5d0"
            ],
            [
             0.7,
             "#b8e186"
            ],
            [
             0.8,
             "#7fbc41"
            ],
            [
             0.9,
             "#4d9221"
            ],
            [
             1,
             "#276419"
            ]
           ],
           "sequential": [
            [
             0,
             "#0d0887"
            ],
            [
             0.1111111111111111,
             "#46039f"
            ],
            [
             0.2222222222222222,
             "#7201a8"
            ],
            [
             0.3333333333333333,
             "#9c179e"
            ],
            [
             0.4444444444444444,
             "#bd3786"
            ],
            [
             0.5555555555555556,
             "#d8576b"
            ],
            [
             0.6666666666666666,
             "#ed7953"
            ],
            [
             0.7777777777777778,
             "#fb9f3a"
            ],
            [
             0.8888888888888888,
             "#fdca26"
            ],
            [
             1,
             "#f0f921"
            ]
           ],
           "sequentialminus": [
            [
             0,
             "#0d0887"
            ],
            [
             0.1111111111111111,
             "#46039f"
            ],
            [
             0.2222222222222222,
             "#7201a8"
            ],
            [
             0.3333333333333333,
             "#9c179e"
            ],
            [
             0.4444444444444444,
             "#bd3786"
            ],
            [
             0.5555555555555556,
             "#d8576b"
            ],
            [
             0.6666666666666666,
             "#ed7953"
            ],
            [
             0.7777777777777778,
             "#fb9f3a"
            ],
            [
             0.8888888888888888,
             "#fdca26"
            ],
            [
             1,
             "#f0f921"
            ]
           ]
          },
          "colorway": [
           "#636efa",
           "#EF553B",
           "#00cc96",
           "#ab63fa",
           "#FFA15A",
           "#19d3f3",
           "#FF6692",
           "#B6E880",
           "#FF97FF",
           "#FECB52"
          ],
          "font": {
           "color": "#2a3f5f"
          },
          "geo": {
           "bgcolor": "white",
           "lakecolor": "white",
           "landcolor": "#E5ECF6",
           "showlakes": true,
           "showland": true,
           "subunitcolor": "white"
          },
          "hoverlabel": {
           "align": "left"
          },
          "hovermode": "closest",
          "mapbox": {
           "style": "light"
          },
          "paper_bgcolor": "white",
          "plot_bgcolor": "#E5ECF6",
          "polar": {
           "angularaxis": {
            "gridcolor": "white",
            "linecolor": "white",
            "ticks": ""
           },
           "bgcolor": "#E5ECF6",
           "radialaxis": {
            "gridcolor": "white",
            "linecolor": "white",
            "ticks": ""
           }
          },
          "scene": {
           "xaxis": {
            "backgroundcolor": "#E5ECF6",
            "gridcolor": "white",
            "gridwidth": 2,
            "linecolor": "white",
            "showbackground": true,
            "ticks": "",
            "zerolinecolor": "white"
           },
           "yaxis": {
            "backgroundcolor": "#E5ECF6",
            "gridcolor": "white",
            "gridwidth": 2,
            "linecolor": "white",
            "showbackground": true,
            "ticks": "",
            "zerolinecolor": "white"
           },
           "zaxis": {
            "backgroundcolor": "#E5ECF6",
            "gridcolor": "white",
            "gridwidth": 2,
            "linecolor": "white",
            "showbackground": true,
            "ticks": "",
            "zerolinecolor": "white"
           }
          },
          "shapedefaults": {
           "line": {
            "color": "#2a3f5f"
           }
          },
          "ternary": {
           "aaxis": {
            "gridcolor": "white",
            "linecolor": "white",
            "ticks": ""
           },
           "baxis": {
            "gridcolor": "white",
            "linecolor": "white",
            "ticks": ""
           },
           "bgcolor": "#E5ECF6",
           "caxis": {
            "gridcolor": "white",
            "linecolor": "white",
            "ticks": ""
           }
          },
          "title": {
           "x": 0.05
          },
          "xaxis": {
           "automargin": true,
           "gridcolor": "white",
           "linecolor": "white",
           "ticks": "",
           "title": {
            "standoff": 15
           },
           "zerolinecolor": "white",
           "zerolinewidth": 2
          },
          "yaxis": {
           "automargin": true,
           "gridcolor": "white",
           "linecolor": "white",
           "ticks": "",
           "title": {
            "standoff": 15
           },
           "zerolinecolor": "white",
           "zerolinewidth": 2
          }
         }
        },
        "xaxis": {
         "anchor": "y",
         "domain": [
          0,
          0.029903978052126197
         ]
        },
        "xaxis10": {
         "anchor": "y10",
         "domain": [
          0.3358024691358024,
          0.3657064471879286
         ]
        },
        "xaxis11": {
         "anchor": "y11",
         "domain": [
          0.373113854595336,
          0.4030178326474622
         ]
        },
        "xaxis12": {
         "anchor": "y12",
         "domain": [
          0.41042524005486963,
          0.4403292181069958
         ]
        },
        "xaxis13": {
         "anchor": "y13",
         "domain": [
          0.4477366255144033,
          0.4776406035665295
         ]
        },
        "xaxis14": {
         "anchor": "y14",
         "domain": [
          0.4850480109739369,
          0.5149519890260631
         ]
        },
        "xaxis15": {
         "anchor": "y15",
         "domain": [
          0.5223593964334705,
          0.5522633744855967
         ]
        },
        "xaxis16": {
         "anchor": "y16",
         "domain": [
          0.5596707818930041,
          0.5895747599451303
         ]
        },
        "xaxis17": {
         "anchor": "y17",
         "domain": [
          0.5969821673525377,
          0.6268861454046639
         ]
        },
        "xaxis18": {
         "anchor": "y18",
         "domain": [
          0.6342935528120712,
          0.6641975308641974
         ]
        },
        "xaxis19": {
         "anchor": "y19",
         "domain": [
          0.6716049382716048,
          0.701508916323731
         ]
        },
        "xaxis2": {
         "anchor": "y2",
         "domain": [
          0.03731138545953361,
          0.0672153635116598
         ]
        },
        "xaxis20": {
         "anchor": "y20",
         "domain": [
          0.7089163237311384,
          0.7388203017832646
         ]
        },
        "xaxis21": {
         "anchor": "y21",
         "domain": [
          0.746227709190672,
          0.7761316872427982
         ]
        },
        "xaxis22": {
         "anchor": "y22",
         "domain": [
          0.7835390946502057,
          0.8134430727023318
         ]
        },
        "xaxis23": {
         "anchor": "y23",
         "domain": [
          0.8208504801097393,
          0.8507544581618655
         ]
        },
        "xaxis24": {
         "anchor": "y24",
         "domain": [
          0.8581618655692729,
          0.8880658436213991
         ]
        },
        "xaxis25": {
         "anchor": "y25",
         "domain": [
          0.8954732510288066,
          0.9253772290809328
         ]
        },
        "xaxis26": {
         "anchor": "y26",
         "domain": [
          0.9327846364883402,
          0.9626886145404664
         ]
        },
        "xaxis27": {
         "anchor": "y27",
         "domain": [
          0.9700960219478738,
          1
         ]
        },
        "xaxis3": {
         "anchor": "y3",
         "domain": [
          0.07462277091906722,
          0.1045267489711934
         ]
        },
        "xaxis4": {
         "anchor": "y4",
         "domain": [
          0.11193415637860082,
          0.14183813443072701
         ]
        },
        "xaxis5": {
         "anchor": "y5",
         "domain": [
          0.14924554183813443,
          0.17914951989026062
         ]
        },
        "xaxis6": {
         "anchor": "y6",
         "domain": [
          0.186556927297668,
          0.2164609053497942
         ]
        },
        "xaxis7": {
         "anchor": "y7",
         "domain": [
          0.22386831275720165,
          0.25377229080932784
         ]
        },
        "xaxis8": {
         "anchor": "y8",
         "domain": [
          0.26117969821673526,
          0.29108367626886145
         ]
        },
        "xaxis9": {
         "anchor": "y9",
         "domain": [
          0.29849108367626886,
          0.32839506172839505
         ]
        },
        "yaxis": {
         "anchor": "x",
         "domain": [
          0,
          1
         ]
        },
        "yaxis10": {
         "anchor": "x10",
         "domain": [
          0,
          1
         ]
        },
        "yaxis11": {
         "anchor": "x11",
         "domain": [
          0,
          1
         ]
        },
        "yaxis12": {
         "anchor": "x12",
         "domain": [
          0,
          1
         ]
        },
        "yaxis13": {
         "anchor": "x13",
         "domain": [
          0,
          1
         ]
        },
        "yaxis14": {
         "anchor": "x14",
         "domain": [
          0,
          1
         ]
        },
        "yaxis15": {
         "anchor": "x15",
         "domain": [
          0,
          1
         ]
        },
        "yaxis16": {
         "anchor": "x16",
         "domain": [
          0,
          1
         ]
        },
        "yaxis17": {
         "anchor": "x17",
         "domain": [
          0,
          1
         ]
        },
        "yaxis18": {
         "anchor": "x18",
         "domain": [
          0,
          1
         ]
        },
        "yaxis19": {
         "anchor": "x19",
         "domain": [
          0,
          1
         ]
        },
        "yaxis2": {
         "anchor": "x2",
         "domain": [
          0,
          1
         ]
        },
        "yaxis20": {
         "anchor": "x20",
         "domain": [
          0,
          1
         ]
        },
        "yaxis21": {
         "anchor": "x21",
         "domain": [
          0,
          1
         ]
        },
        "yaxis22": {
         "anchor": "x22",
         "domain": [
          0,
          1
         ]
        },
        "yaxis23": {
         "anchor": "x23",
         "domain": [
          0,
          1
         ]
        },
        "yaxis24": {
         "anchor": "x24",
         "domain": [
          0,
          1
         ]
        },
        "yaxis25": {
         "anchor": "x25",
         "domain": [
          0,
          1
         ]
        },
        "yaxis26": {
         "anchor": "x26",
         "domain": [
          0,
          1
         ]
        },
        "yaxis27": {
         "anchor": "x27",
         "domain": [
          0,
          1
         ]
        },
        "yaxis3": {
         "anchor": "x3",
         "domain": [
          0,
          1
         ]
        },
        "yaxis4": {
         "anchor": "x4",
         "domain": [
          0,
          1
         ]
        },
        "yaxis5": {
         "anchor": "x5",
         "domain": [
          0,
          1
         ]
        },
        "yaxis6": {
         "anchor": "x6",
         "domain": [
          0,
          1
         ]
        },
        "yaxis7": {
         "anchor": "x7",
         "domain": [
          0,
          1
         ]
        },
        "yaxis8": {
         "anchor": "x8",
         "domain": [
          0,
          1
         ]
        },
        "yaxis9": {
         "anchor": "x9",
         "domain": [
          0,
          1
         ]
        }
       }
      },
      "text/html": [
       "<div>                            <div id=\"abd1a790-3f92-4b35-b1e2-91e3f3d3a52f\" class=\"plotly-graph-div\" style=\"height:525px; width:100%;\"></div>            <script type=\"text/javascript\">                require([\"plotly\"], function(Plotly) {                    window.PLOTLYENV=window.PLOTLYENV || {};                                    if (document.getElementById(\"abd1a790-3f92-4b35-b1e2-91e3f3d3a52f\")) {                    Plotly.newPlot(                        \"abd1a790-3f92-4b35-b1e2-91e3f3d3a52f\",                        [{\"name\":\"Right I IV\",\"y\":[1.58912168151203,0.642574934641154,1.48799225779164,0.750976525699135],\"type\":\"box\",\"xaxis\":\"x\",\"yaxis\":\"y\",\"boxpoints\":\"all\",\"jitter\":0.3},{\"name\":\"Left V\",\"y\":[2.17108106602561,0.81226864613356,1.53342363558565,1.4246079410777],\"type\":\"box\",\"xaxis\":\"x2\",\"yaxis\":\"y2\",\"boxpoints\":\"all\",\"jitter\":0.3},{\"name\":\"Right V\",\"y\":[2.00659910704589,0.560316308808427,1.86644325908153,0.798815744426205],\"type\":\"box\",\"xaxis\":\"x3\",\"yaxis\":\"y3\",\"boxpoints\":\"all\",\"jitter\":0.3},{\"name\":\"Left VI\",\"y\":[4.22357418006768,1.41480053896041,3.24728257467469,2.37935702891176],\"type\":\"box\",\"xaxis\":\"x4\",\"yaxis\":\"y4\",\"boxpoints\":\"all\",\"jitter\":0.3},{\"name\":\"Vermis VI\",\"y\":[0.803982385528534,0.248175878210409,0.764309854814968,0.30027061085543],\"type\":\"box\",\"xaxis\":\"x5\",\"yaxis\":\"y5\",\"boxpoints\":\"all\",\"jitter\":0.3},{\"name\":\"Right VI\",\"y\":[3.71759892224287,0.981166284737514,3.21088648931471,1.78536483561753],\"type\":\"box\",\"xaxis\":\"x6\",\"yaxis\":\"y6\",\"boxpoints\":\"all\",\"jitter\":0.3},{\"name\":\"Left CrusI\",\"y\":[5.90681719821748,1.40630644253894,5.82920820984688,1.15965498875987],\"type\":\"box\",\"xaxis\":\"x7\",\"yaxis\":\"y7\",\"boxpoints\":\"all\",\"jitter\":0.3},{\"name\":\"Vermis CrusI\",\"y\":[0.0057176333677679,0.0,0.0037372551815788,0.0003529412045347],\"type\":\"box\",\"xaxis\":\"x8\",\"yaxis\":\"y8\",\"boxpoints\":\"all\",\"jitter\":0.3},{\"name\":\"Right CrusI\",\"y\":[6.10051084862169,1.47257687133827,5.03391013340949,2.16721191815888],\"type\":\"box\",\"xaxis\":\"x9\",\"yaxis\":\"y9\",\"boxpoints\":\"all\",\"jitter\":0.3},{\"name\":\"Left CrusII\",\"y\":[5.28956377221692,1.54376493220112,5.62176896707116,0.783843195733653],\"type\":\"box\",\"xaxis\":\"x10\",\"yaxis\":\"y10\",\"boxpoints\":\"all\",\"jitter\":0.3},{\"name\":\"Vermis CrusII\",\"y\":[0.19976030563481,0.0790743214527765,0.247784328658065,0.0398156890586584],\"type\":\"box\",\"xaxis\":\"x11\",\"yaxis\":\"y11\",\"boxpoints\":\"all\",\"jitter\":0.3},{\"name\":\"Right CrusII\",\"y\":[5.39677135765112,1.19610694445831,5.61993367551065,0.886905946980293],\"type\":\"box\",\"xaxis\":\"x12\",\"yaxis\":\"y12\",\"boxpoints\":\"all\",\"jitter\":0.3},{\"name\":\"Left VIIb\",\"y\":[3.49377592178022,0.64816315644433,3.64562766527597,0.214082369470238],\"type\":\"box\",\"xaxis\":\"x13\",\"yaxis\":\"y13\",\"boxpoints\":\"all\",\"jitter\":0.3},{\"name\":\"Vermis VIIb\",\"y\":[0.0917095837744542,0.0282940500814282,0.0935686335615873,0.0376745126023403],\"type\":\"box\",\"xaxis\":\"x14\",\"yaxis\":\"y14\",\"boxpoints\":\"all\",\"jitter\":0.3},{\"name\":\"Right VIIb\",\"y\":[3.4055447601918,0.604633850981986,3.6576943330902,0.351721594268732],\"type\":\"box\",\"xaxis\":\"x15\",\"yaxis\":\"y15\",\"boxpoints\":\"all\",\"jitter\":0.3},{\"name\":\"Left VIIIa\",\"y\":[3.17792178351504,0.680288571829963,3.46431001030351,0.295196100685344],\"type\":\"box\",\"xaxis\":\"x16\",\"yaxis\":\"y16\",\"boxpoints\":\"all\",\"jitter\":0.3},{\"name\":\"Vermis VIIIa\",\"y\":[0.504783104622693,0.411814701449425,0.656670631299242,0.247580411072777],\"type\":\"box\",\"xaxis\":\"x17\",\"yaxis\":\"y17\",\"boxpoints\":\"all\",\"jitter\":0.3},{\"name\":\"Right VIIIa\",\"y\":[3.18041196631128,0.540434001721328,3.38542372585569,0.286258843852993],\"type\":\"box\",\"xaxis\":\"x18\",\"yaxis\":\"y18\",\"boxpoints\":\"all\",\"jitter\":0.3},{\"name\":\"Left VIIIb\",\"y\":[1.99831285528282,0.602837774564727,2.43921191592061,0.361678459900323],\"type\":\"box\",\"xaxis\":\"x19\",\"yaxis\":\"y19\",\"boxpoints\":\"all\",\"jitter\":0.3},{\"name\":\"Vermis VIIIb\",\"y\":[0.336140370817393,0.0932468365745181,0.381760808913,0.0591372596771175],\"type\":\"box\",\"xaxis\":\"x20\",\"yaxis\":\"y20\",\"boxpoints\":\"all\",\"jitter\":0.3},{\"name\":\"Right VIIIb\",\"y\":[2.25008871468795,0.387363780741833,2.40287857884721,0.29300002243615],\"type\":\"box\",\"xaxis\":\"x21\",\"yaxis\":\"y21\",\"boxpoints\":\"all\",\"jitter\":0.3},{\"name\":\"Left IX\",\"y\":[1.47841998909395,0.616469116525632,1.84292560516479,0.336392182370904],\"type\":\"box\",\"xaxis\":\"x22\",\"yaxis\":\"y22\",\"boxpoints\":\"all\",\"jitter\":0.3},{\"name\":\"Vermis IX\",\"y\":[0.307905146213838,0.243560203369803,0.366607868735026,0.182129425873228],\"type\":\"box\",\"xaxis\":\"x23\",\"yaxis\":\"y23\",\"boxpoints\":\"all\",\"jitter\":0.3},{\"name\":\"Right IX\",\"y\":[1.67859205566936,0.653312164911592,2.02273737853678,0.359192184434188],\"type\":\"box\",\"xaxis\":\"x24\",\"yaxis\":\"y24\",\"boxpoints\":\"all\",\"jitter\":0.3},{\"name\":\"Left X\",\"y\":[0.288191467549298,0.127850675112389,0.327462767371918,0.124533342845373],\"type\":\"box\",\"xaxis\":\"x25\",\"yaxis\":\"y25\",\"boxpoints\":\"all\",\"jitter\":0.3},{\"name\":\"Vermis X\",\"y\":[0.148058469176576,0.033066587958075,0.13645098979335,0.0468313762820942],\"type\":\"box\",\"xaxis\":\"x26\",\"yaxis\":\"y26\",\"boxpoints\":\"all\",\"jitter\":0.3},{\"name\":\"Right X\",\"y\":[0.332387438804443,0.078842948886074,0.348251003949466,0.0990666736591678],\"type\":\"box\",\"xaxis\":\"x27\",\"yaxis\":\"y27\",\"boxpoints\":\"all\",\"jitter\":0.3}],                        {\"template\":{\"data\":{\"histogram2dcontour\":[{\"type\":\"histogram2dcontour\",\"colorbar\":{\"outlinewidth\":0,\"ticks\":\"\"},\"colorscale\":[[0.0,\"#0d0887\"],[0.1111111111111111,\"#46039f\"],[0.2222222222222222,\"#7201a8\"],[0.3333333333333333,\"#9c179e\"],[0.4444444444444444,\"#bd3786\"],[0.5555555555555556,\"#d8576b\"],[0.6666666666666666,\"#ed7953\"],[0.7777777777777778,\"#fb9f3a\"],[0.8888888888888888,\"#fdca26\"],[1.0,\"#f0f921\"]]}],\"choropleth\":[{\"type\":\"choropleth\",\"colorbar\":{\"outlinewidth\":0,\"ticks\":\"\"}}],\"histogram2d\":[{\"type\":\"histogram2d\",\"colorbar\":{\"outlinewidth\":0,\"ticks\":\"\"},\"colorscale\":[[0.0,\"#0d0887\"],[0.1111111111111111,\"#46039f\"],[0.2222222222222222,\"#7201a8\"],[0.3333333333333333,\"#9c179e\"],[0.4444444444444444,\"#bd3786\"],[0.5555555555555556,\"#d8576b\"],[0.6666666666666666,\"#ed7953\"],[0.7777777777777778,\"#fb9f3a\"],[0.8888888888888888,\"#fdca26\"],[1.0,\"#f0f921\"]]}],\"heatmap\":[{\"type\":\"heatmap\",\"colorbar\":{\"outlinewidth\":0,\"ticks\":\"\"},\"colorscale\":[[0.0,\"#0d0887\"],[0.1111111111111111,\"#46039f\"],[0.2222222222222222,\"#7201a8\"],[0.3333333333333333,\"#9c179e\"],[0.4444444444444444,\"#bd3786\"],[0.5555555555555556,\"#d8576b\"],[0.6666666666666666,\"#ed7953\"],[0.7777777777777778,\"#fb9f3a\"],[0.8888888888888888,\"#fdca26\"],[1.0,\"#f0f921\"]]}],\"heatmapgl\":[{\"type\":\"heatmapgl\",\"colorbar\":{\"outlinewidth\":0,\"ticks\":\"\"},\"colorscale\":[[0.0,\"#0d0887\"],[0.1111111111111111,\"#46039f\"],[0.2222222222222222,\"#7201a8\"],[0.3333333333333333,\"#9c179e\"],[0.4444444444444444,\"#bd3786\"],[0.5555555555555556,\"#d8576b\"],[0.6666666666666666,\"#ed7953\"],[0.7777777777777778,\"#fb9f3a\"],[0.8888888888888888,\"#fdca26\"],[1.0,\"#f0f921\"]]}],\"contourcarpet\":[{\"type\":\"contourcarpet\",\"colorbar\":{\"outlinewidth\":0,\"ticks\":\"\"}}],\"contour\":[{\"type\":\"contour\",\"colorbar\":{\"outlinewidth\":0,\"ticks\":\"\"},\"colorscale\":[[0.0,\"#0d0887\"],[0.1111111111111111,\"#46039f\"],[0.2222222222222222,\"#7201a8\"],[0.3333333333333333,\"#9c179e\"],[0.4444444444444444,\"#bd3786\"],[0.5555555555555556,\"#d8576b\"],[0.6666666666666666,\"#ed7953\"],[0.7777777777777778,\"#fb9f3a\"],[0.8888888888888888,\"#fdca26\"],[1.0,\"#f0f921\"]]}],\"surface\":[{\"type\":\"surface\",\"colorbar\":{\"outlinewidth\":0,\"ticks\":\"\"},\"colorscale\":[[0.0,\"#0d0887\"],[0.1111111111111111,\"#46039f\"],[0.2222222222222222,\"#7201a8\"],[0.3333333333333333,\"#9c179e\"],[0.4444444444444444,\"#bd3786\"],[0.5555555555555556,\"#d8576b\"],[0.6666666666666666,\"#ed7953\"],[0.7777777777777778,\"#fb9f3a\"],[0.8888888888888888,\"#fdca26\"],[1.0,\"#f0f921\"]]}],\"mesh3d\":[{\"type\":\"mesh3d\",\"colorbar\":{\"outlinewidth\":0,\"ticks\":\"\"}}],\"scatter\":[{\"fillpattern\":{\"fillmode\":\"overlay\",\"size\":10,\"solidity\":0.2},\"type\":\"scatter\"}],\"parcoords\":[{\"type\":\"parcoords\",\"line\":{\"colorbar\":{\"outlinewidth\":0,\"ticks\":\"\"}}}],\"scatterpolargl\":[{\"type\":\"scatterpolargl\",\"marker\":{\"colorbar\":{\"outlinewidth\":0,\"ticks\":\"\"}}}],\"bar\":[{\"error_x\":{\"color\":\"#2a3f5f\"},\"error_y\":{\"color\":\"#2a3f5f\"},\"marker\":{\"line\":{\"color\":\"#E5ECF6\",\"width\":0.5},\"pattern\":{\"fillmode\":\"overlay\",\"size\":10,\"solidity\":0.2}},\"type\":\"bar\"}],\"scattergeo\":[{\"type\":\"scattergeo\",\"marker\":{\"colorbar\":{\"outlinewidth\":0,\"ticks\":\"\"}}}],\"scatterpolar\":[{\"type\":\"scatterpolar\",\"marker\":{\"colorbar\":{\"outlinewidth\":0,\"ticks\":\"\"}}}],\"histogram\":[{\"marker\":{\"pattern\":{\"fillmode\":\"overlay\",\"size\":10,\"solidity\":0.2}},\"type\":\"histogram\"}],\"scattergl\":[{\"type\":\"scattergl\",\"marker\":{\"colorbar\":{\"outlinewidth\":0,\"ticks\":\"\"}}}],\"scatter3d\":[{\"type\":\"scatter3d\",\"line\":{\"colorbar\":{\"outlinewidth\":0,\"ticks\":\"\"}},\"marker\":{\"colorbar\":{\"outlinewidth\":0,\"ticks\":\"\"}}}],\"scattermapbox\":[{\"type\":\"scattermapbox\",\"marker\":{\"colorbar\":{\"outlinewidth\":0,\"ticks\":\"\"}}}],\"scatterternary\":[{\"type\":\"scatterternary\",\"marker\":{\"colorbar\":{\"outlinewidth\":0,\"ticks\":\"\"}}}],\"scattercarpet\":[{\"type\":\"scattercarpet\",\"marker\":{\"colorbar\":{\"outlinewidth\":0,\"ticks\":\"\"}}}],\"carpet\":[{\"aaxis\":{\"endlinecolor\":\"#2a3f5f\",\"gridcolor\":\"white\",\"linecolor\":\"white\",\"minorgridcolor\":\"white\",\"startlinecolor\":\"#2a3f5f\"},\"baxis\":{\"endlinecolor\":\"#2a3f5f\",\"gridcolor\":\"white\",\"linecolor\":\"white\",\"minorgridcolor\":\"white\",\"startlinecolor\":\"#2a3f5f\"},\"type\":\"carpet\"}],\"table\":[{\"cells\":{\"fill\":{\"color\":\"#EBF0F8\"},\"line\":{\"color\":\"white\"}},\"header\":{\"fill\":{\"color\":\"#C8D4E3\"},\"line\":{\"color\":\"white\"}},\"type\":\"table\"}],\"barpolar\":[{\"marker\":{\"line\":{\"color\":\"#E5ECF6\",\"width\":0.5},\"pattern\":{\"fillmode\":\"overlay\",\"size\":10,\"solidity\":0.2}},\"type\":\"barpolar\"}],\"pie\":[{\"automargin\":true,\"type\":\"pie\"}]},\"layout\":{\"autotypenumbers\":\"strict\",\"colorway\":[\"#636efa\",\"#EF553B\",\"#00cc96\",\"#ab63fa\",\"#FFA15A\",\"#19d3f3\",\"#FF6692\",\"#B6E880\",\"#FF97FF\",\"#FECB52\"],\"font\":{\"color\":\"#2a3f5f\"},\"hovermode\":\"closest\",\"hoverlabel\":{\"align\":\"left\"},\"paper_bgcolor\":\"white\",\"plot_bgcolor\":\"#E5ECF6\",\"polar\":{\"bgcolor\":\"#E5ECF6\",\"angularaxis\":{\"gridcolor\":\"white\",\"linecolor\":\"white\",\"ticks\":\"\"},\"radialaxis\":{\"gridcolor\":\"white\",\"linecolor\":\"white\",\"ticks\":\"\"}},\"ternary\":{\"bgcolor\":\"#E5ECF6\",\"aaxis\":{\"gridcolor\":\"white\",\"linecolor\":\"white\",\"ticks\":\"\"},\"baxis\":{\"gridcolor\":\"white\",\"linecolor\":\"white\",\"ticks\":\"\"},\"caxis\":{\"gridcolor\":\"white\",\"linecolor\":\"white\",\"ticks\":\"\"}},\"coloraxis\":{\"colorbar\":{\"outlinewidth\":0,\"ticks\":\"\"}},\"colorscale\":{\"sequential\":[[0.0,\"#0d0887\"],[0.1111111111111111,\"#46039f\"],[0.2222222222222222,\"#7201a8\"],[0.3333333333333333,\"#9c179e\"],[0.4444444444444444,\"#bd3786\"],[0.5555555555555556,\"#d8576b\"],[0.6666666666666666,\"#ed7953\"],[0.7777777777777778,\"#fb9f3a\"],[0.8888888888888888,\"#fdca26\"],[1.0,\"#f0f921\"]],\"sequentialminus\":[[0.0,\"#0d0887\"],[0.1111111111111111,\"#46039f\"],[0.2222222222222222,\"#7201a8\"],[0.3333333333333333,\"#9c179e\"],[0.4444444444444444,\"#bd3786\"],[0.5555555555555556,\"#d8576b\"],[0.6666666666666666,\"#ed7953\"],[0.7777777777777778,\"#fb9f3a\"],[0.8888888888888888,\"#fdca26\"],[1.0,\"#f0f921\"]],\"diverging\":[[0,\"#8e0152\"],[0.1,\"#c51b7d\"],[0.2,\"#de77ae\"],[0.3,\"#f1b6da\"],[0.4,\"#fde0ef\"],[0.5,\"#f7f7f7\"],[0.6,\"#e6f5d0\"],[0.7,\"#b8e186\"],[0.8,\"#7fbc41\"],[0.9,\"#4d9221\"],[1,\"#276419\"]]},\"xaxis\":{\"gridcolor\":\"white\",\"linecolor\":\"white\",\"ticks\":\"\",\"title\":{\"standoff\":15},\"zerolinecolor\":\"white\",\"automargin\":true,\"zerolinewidth\":2},\"yaxis\":{\"gridcolor\":\"white\",\"linecolor\":\"white\",\"ticks\":\"\",\"title\":{\"standoff\":15},\"zerolinecolor\":\"white\",\"automargin\":true,\"zerolinewidth\":2},\"scene\":{\"xaxis\":{\"backgroundcolor\":\"#E5ECF6\",\"gridcolor\":\"white\",\"linecolor\":\"white\",\"showbackground\":true,\"ticks\":\"\",\"zerolinecolor\":\"white\",\"gridwidth\":2},\"yaxis\":{\"backgroundcolor\":\"#E5ECF6\",\"gridcolor\":\"white\",\"linecolor\":\"white\",\"showbackground\":true,\"ticks\":\"\",\"zerolinecolor\":\"white\",\"gridwidth\":2},\"zaxis\":{\"backgroundcolor\":\"#E5ECF6\",\"gridcolor\":\"white\",\"linecolor\":\"white\",\"showbackground\":true,\"ticks\":\"\",\"zerolinecolor\":\"white\",\"gridwidth\":2}},\"shapedefaults\":{\"line\":{\"color\":\"#2a3f5f\"}},\"annotationdefaults\":{\"arrowcolor\":\"#2a3f5f\",\"arrowhead\":0,\"arrowwidth\":1},\"geo\":{\"bgcolor\":\"white\",\"landcolor\":\"#E5ECF6\",\"subunitcolor\":\"white\",\"showland\":true,\"showlakes\":true,\"lakecolor\":\"white\"},\"title\":{\"x\":0.05},\"mapbox\":{\"style\":\"light\"}}},\"xaxis\":{\"anchor\":\"y\",\"domain\":[0.0,0.029903978052126197]},\"yaxis\":{\"anchor\":\"x\",\"domain\":[0.0,1.0]},\"xaxis2\":{\"anchor\":\"y2\",\"domain\":[0.03731138545953361,0.0672153635116598]},\"yaxis2\":{\"anchor\":\"x2\",\"domain\":[0.0,1.0]},\"xaxis3\":{\"anchor\":\"y3\",\"domain\":[0.07462277091906722,0.1045267489711934]},\"yaxis3\":{\"anchor\":\"x3\",\"domain\":[0.0,1.0]},\"xaxis4\":{\"anchor\":\"y4\",\"domain\":[0.11193415637860082,0.14183813443072701]},\"yaxis4\":{\"anchor\":\"x4\",\"domain\":[0.0,1.0]},\"xaxis5\":{\"anchor\":\"y5\",\"domain\":[0.14924554183813443,0.17914951989026062]},\"yaxis5\":{\"anchor\":\"x5\",\"domain\":[0.0,1.0]},\"xaxis6\":{\"anchor\":\"y6\",\"domain\":[0.186556927297668,0.2164609053497942]},\"yaxis6\":{\"anchor\":\"x6\",\"domain\":[0.0,1.0]},\"xaxis7\":{\"anchor\":\"y7\",\"domain\":[0.22386831275720165,0.25377229080932784]},\"yaxis7\":{\"anchor\":\"x7\",\"domain\":[0.0,1.0]},\"xaxis8\":{\"anchor\":\"y8\",\"domain\":[0.26117969821673526,0.29108367626886145]},\"yaxis8\":{\"anchor\":\"x8\",\"domain\":[0.0,1.0]},\"xaxis9\":{\"anchor\":\"y9\",\"domain\":[0.29849108367626886,0.32839506172839505]},\"yaxis9\":{\"anchor\":\"x9\",\"domain\":[0.0,1.0]},\"xaxis10\":{\"anchor\":\"y10\",\"domain\":[0.3358024691358024,0.3657064471879286]},\"yaxis10\":{\"anchor\":\"x10\",\"domain\":[0.0,1.0]},\"xaxis11\":{\"anchor\":\"y11\",\"domain\":[0.373113854595336,0.4030178326474622]},\"yaxis11\":{\"anchor\":\"x11\",\"domain\":[0.0,1.0]},\"xaxis12\":{\"anchor\":\"y12\",\"domain\":[0.41042524005486963,0.4403292181069958]},\"yaxis12\":{\"anchor\":\"x12\",\"domain\":[0.0,1.0]},\"xaxis13\":{\"anchor\":\"y13\",\"domain\":[0.4477366255144033,0.4776406035665295]},\"yaxis13\":{\"anchor\":\"x13\",\"domain\":[0.0,1.0]},\"xaxis14\":{\"anchor\":\"y14\",\"domain\":[0.4850480109739369,0.5149519890260631]},\"yaxis14\":{\"anchor\":\"x14\",\"domain\":[0.0,1.0]},\"xaxis15\":{\"anchor\":\"y15\",\"domain\":[0.5223593964334705,0.5522633744855967]},\"yaxis15\":{\"anchor\":\"x15\",\"domain\":[0.0,1.0]},\"xaxis16\":{\"anchor\":\"y16\",\"domain\":[0.5596707818930041,0.5895747599451303]},\"yaxis16\":{\"anchor\":\"x16\",\"domain\":[0.0,1.0]},\"xaxis17\":{\"anchor\":\"y17\",\"domain\":[0.5969821673525377,0.6268861454046639]},\"yaxis17\":{\"anchor\":\"x17\",\"domain\":[0.0,1.0]},\"xaxis18\":{\"anchor\":\"y18\",\"domain\":[0.6342935528120712,0.6641975308641974]},\"yaxis18\":{\"anchor\":\"x18\",\"domain\":[0.0,1.0]},\"xaxis19\":{\"anchor\":\"y19\",\"domain\":[0.6716049382716048,0.701508916323731]},\"yaxis19\":{\"anchor\":\"x19\",\"domain\":[0.0,1.0]},\"xaxis20\":{\"anchor\":\"y20\",\"domain\":[0.7089163237311384,0.7388203017832646]},\"yaxis20\":{\"anchor\":\"x20\",\"domain\":[0.0,1.0]},\"xaxis21\":{\"anchor\":\"y21\",\"domain\":[0.746227709190672,0.7761316872427982]},\"yaxis21\":{\"anchor\":\"x21\",\"domain\":[0.0,1.0]},\"xaxis22\":{\"anchor\":\"y22\",\"domain\":[0.7835390946502057,0.8134430727023318]},\"yaxis22\":{\"anchor\":\"x22\",\"domain\":[0.0,1.0]},\"xaxis23\":{\"anchor\":\"y23\",\"domain\":[0.8208504801097393,0.8507544581618655]},\"yaxis23\":{\"anchor\":\"x23\",\"domain\":[0.0,1.0]},\"xaxis24\":{\"anchor\":\"y24\",\"domain\":[0.8581618655692729,0.8880658436213991]},\"yaxis24\":{\"anchor\":\"x24\",\"domain\":[0.0,1.0]},\"xaxis25\":{\"anchor\":\"y25\",\"domain\":[0.8954732510288066,0.9253772290809328]},\"yaxis25\":{\"anchor\":\"x25\",\"domain\":[0.0,1.0]},\"xaxis26\":{\"anchor\":\"y26\",\"domain\":[0.9327846364883402,0.9626886145404664]},\"yaxis26\":{\"anchor\":\"x26\",\"domain\":[0.0,1.0]},\"xaxis27\":{\"anchor\":\"y27\",\"domain\":[0.9700960219478738,1.0]},\"yaxis27\":{\"anchor\":\"x27\",\"domain\":[0.0,1.0]}},                        {\"responsive\": true}                    ).then(function(){\n",
       "                            \n",
       "var gd = document.getElementById('abd1a790-3f92-4b35-b1e2-91e3f3d3a52f');\n",
       "var x = new MutationObserver(function (mutations, observer) {{\n",
       "        var display = window.getComputedStyle(gd).display;\n",
       "        if (!display || display === 'none') {{\n",
       "            console.log([gd, 'removed!']);\n",
       "            Plotly.purge(gd);\n",
       "            observer.disconnect();\n",
       "        }}\n",
       "}});\n",
       "\n",
       "// Listen for the removal of the full notebook cells\n",
       "var notebookContainer = gd.closest('#notebook-container');\n",
       "if (notebookContainer) {{\n",
       "    x.observe(notebookContainer, {childList: true});\n",
       "}}\n",
       "\n",
       "// Listen for the clearing of the current output cell\n",
       "var outputEl = gd.closest('.output');\n",
       "if (outputEl) {{\n",
       "    x.observe(outputEl, {childList: true});\n",
       "}}\n",
       "\n",
       "                        })                };                });            </script>        </div>"
      ]
     },
     "metadata": {},
     "output_type": "display_data"
    }
   ],
   "source": [
    "path = \"/net/data.isilon/ag-cherrmann/nschmidt/project/parse_xml_for_VAE/xml_data_t/Aggregated_suit_t.csv\"\n",
    "\n",
    "df = pd.read_csv(path, index_col=[0])\n",
    "rois = df.columns[2:]\n",
    "\n",
    "fig = make_subplots(rows=1, cols=len(rois))\n",
    "for i, roi in enumerate(rois):\n",
    "    fig.add_trace(\n",
    "    go.Box(y=df[roi], name=roi), row=1, col=i+1)\n",
    "\n",
    "fig.update_traces(boxpoints='all', jitter=.3)\n",
    "fig.update_layout()"
   ]
  },
  {
   "cell_type": "code",
   "execution_count": 14,
   "metadata": {},
   "outputs": [],
   "source": [
    "def analyze_df(df: pd.DataFrame) -> dict: \n",
    "    data_dict = {}\n",
    "    rois = df.columns[1:]\n",
    "    for roi in rois:\n",
    "        roi_data = df[roi]\n",
    "        \n",
    "        data_dict[roi] = {\n",
    "            \"mean\":roi_data.mean(),\n",
    "            \"median\":roi_data.median(),\n",
    "            \"quantiles\": roi_data.quantile(q=[0.25, 0.5, 0.75]).to_list(),\n",
    "            \"min\": roi_data.min(), \n",
    "            \"max\": roi_data.max(),\n",
    "            \"var\": roi_data.var()\n",
    "        }\n",
    "        \n",
    "    return data_dict\n",
    "\n",
    "def analyze_features(paths: list):\n",
    "    all_data = {}\n",
    "    for path in paths_t: \n",
    "        path_str = str(path)\n",
    "        df = pd.read_csv(path, index_col=[0]).copy()\n",
    "        all_data[path_str] = {}\n",
    "\n",
    "        for measurement in [\"Vgm\", \"Vwm\"]:\n",
    "            df_m = df.loc[df['Volume'] == measurement].copy()\n",
    "            \n",
    "            if df_m.shape[0] == 0:\n",
    "                continue\n",
    "\n",
    "            data_dict = analyze_df(df_m)\n",
    "            all_data[path_str][measurement] = data_dict\n",
    "    return all_data"
   ]
  },
  {
   "cell_type": "code",
   "execution_count": 15,
   "metadata": {},
   "outputs": [
    {
     "name": "stdout",
     "output_type": "stream",
     "text": [
      "Variances: [0.07415033891386619, 0.0051135801710090805, 0.2033034992976461, 0.00982183085930438, 0.47657264938041105, 0.0007869548466094154, 0.12837874484198744, 0.003011577537953975, 1.960948880166815e-06, 0.5688185428455882, 0.055180145744071915, 0.0011531533936690623, 0.024900710056218977, 0.011529476001349532, 1.7280330555198054e-06, 0.03178970355642277, 0.041009108221522025, 0.01153491037995968, 0.021014910775747464, 0.09719599083564273, 0.0010406121860175555, 0.01167237129490256, 0.0664321720735913, 0.0017230048156997944, 0.05921800162576032, 0.0007711174948790572, 6.736678881600844e-05, 0.00012582634955519457]\n",
      "ROIs: ['Left I IV', 'Right I IV', 'Left V', 'Right V', 'Left VI', 'Vermis VI', 'Right VI', 'Left CrusI', 'Vermis CrusI', 'Right CrusI', 'Left CrusII', 'Vermis CrusII', 'Right CrusII', 'Left VIIb', 'Vermis VIIb', 'Right VIIb', 'Left VIIIa', 'Vermis VIIIa', 'Right VIIIa', 'Left VIIIb', 'Vermis VIIIb', 'Right VIIIb', 'Left IX', 'Vermis IX', 'Right IX', 'Left X', 'Vermis X', 'Right X']\n",
      "Sorted ROIs (ascending): ['Vermis VIIb', 'Vermis CrusI', 'Vermis X', 'Right X', 'Left X', 'Vermis VI', 'Vermis VIIIb', 'Vermis CrusII', 'Vermis IX', 'Left CrusI', 'Right I IV', 'Right V', 'Left VIIb', 'Vermis VIIIa', 'Right VIIIb', 'Right VIIIa', 'Right CrusII', 'Right VIIb', 'Left VIIIa', 'Left CrusII', 'Right IX', 'Left IX', 'Left I IV', 'Left VIIIb', 'Right VI', 'Left V', 'Left VI', 'Right CrusI']\n"
     ]
    }
   ],
   "source": [
    "all_data = analyze_features(paths=paths_t)\n",
    "\n",
    "atlas = \"suit\"\n",
    "measurement = \"Vgm\"\n",
    "\n",
    "path = f\"/net/data.isilon/ag-cherrmann/nschmidt/project/parse_xml_for_VAE/xml_data_t/Aggregated_{atlas}_t.csv\"\n",
    "\n",
    "rois = [roi for roi in all_data[path][measurement]]\n",
    "variances = [all_data[path][measurement][roi][\"var\"] for roi in rois]\n",
    "\n",
    "sort_index = np.argsort(variances)\n",
    "sorted_rois = np.array(rois)[sort_index].tolist()\n",
    "print(f\"Variances: {variances}\")\n",
    "print(f\"ROIs: {rois}\")\n",
    "print(f\"Sorted ROIs (ascending): {sorted_rois}\")"
   ]
  },
  {
   "cell_type": "code",
   "execution_count": null,
   "metadata": {},
   "outputs": [],
   "source": [
    "import pandas as pd\n",
    "import numpy as np \n",
    "\n",
    "def normalize_and_scale_df(df: pd.DataFrame) -> pd.DataFrame:\n",
    "    # Normalizes the columns (patient volumes) by Min-Max Scaling and scales the rows (ROIs) with Z-transformation.\n",
    "\n",
    "    df_copy = df.copy()\n",
    "    column_sums = df_copy.sum()\n",
    "    \n",
    "    # Apply the formula: ln((10000*value)/sum_values + 1) \"Log transformation\"\n",
    "    # Alternatively for Min-Max Scaling: df_copy/df_copy.max() - Problem: Some rows have std = 0\n",
    "    transformed_df = np.log((10000 * df_copy) / column_sums + 1)\n",
    "    \n",
    "    norm_copy = transformed_df.copy()\n",
    "\n",
    "    cols = norm_copy.columns.get_level_values(-1).tolist()\n",
    "    unique_cols = list(set(cols))\n",
    "    \n",
    "    if len(unique_cols) > 0:\n",
    "        for col_type in unique_cols:\n",
    "            cols_to_scale = [col for col in norm_copy.columns if col[-1] == col_type] \n",
    "            print(cols_to_scale)\n",
    "            print(norm_copy[cols_to_scale])\n",
    "            print(norm_copy.apply(lambda x: pd.Series((x-x.mean())/x.std()) if x.std() > 0 else pd.Series([0]*len(x)), axis=\"columns\").head)\n",
    "    # else:\n",
    "    #     norm_copy = norm_copy.apply(z_scale, axis=\"columns\")\n",
    "    return norm_copy\n",
    "\n",
    "def z_scale(row):\n",
    "    sd = row.std()\n",
    "    mean = row.mean()\n",
    "    if sd > 0: \n",
    "        return pd.Series((row-mean)/sd)\n",
    "    else:\n",
    "        return pd.Series([0]*len(row))\n",
    "\n",
    "\n",
    "\n",
    "path_to_csv = \"/net/data.isilon/ag-cherrmann/nschmidt/project/parse_xml_for_VAE/xml_data/Aggregated_thalamic_nuclei.csv\"\n",
    "\n",
    "df = pd.read_csv(path_to_csv, header=[0, 1], index_col=0)\n",
    "\n",
    "df_norm = normalize_and_scale_df(df=df)\n",
    "df_norm\n"
   ]
  },
  {
   "cell_type": "code",
   "execution_count": 30,
   "metadata": {},
   "outputs": [
    {
     "name": "stdout",
     "output_type": "stream",
     "text": [
      "Filename         A                   B                   C\n",
      "Volume        val1      val2      val1      val2      val1\n",
      "a         0.165125  0.242904  0.806972  0.546446  0.535031\n",
      "b         0.448052  0.878168  0.871098  0.427538  0.754350\n",
      "c         0.604342  0.619856  0.212962  0.391066  0.944979\n",
      "d         0.629539  0.630045  0.168249  0.276480  0.003716\n",
      "e         0.958453  0.482889  0.850215  0.169090  0.940190\n"
     ]
    }
   ],
   "source": [
    "data = np.random.rand(5, 4)\n",
    "columns = pd.MultiIndex.from_tuples([('A', 'val1'), ('A', 'val2'), ('B', 'val1'), ('B', 'val2')], names = [\"Filename\", \"Volume\"])\n",
    "df_multi = pd.DataFrame(data, columns=columns)\n",
    "df_multi.index = [[\"a\", \"b\", \"c\", \"d\", \"e\"]]\n",
    "\n",
    "# Slicing a DataFrame with MultiIndex Header\n",
    "\n",
    "data_new = np.random.rand(5, 1)\n",
    "col_new = pd.MultiIndex.from_tuples([('C', 'val1')], names = [\"Filename\", \"Volume\"])\n",
    "df_new = pd.DataFrame(data_new, columns=col_new)\n",
    "df_new.index = [[\"a\", \"b\", \"c\", \"d\", \"e\"]]\n",
    "\n",
    "if df_new.columns[0][0] not in df_multi.columns:\n",
    "    df_concat = pd.concat([df_multi, df_new], axis = 1, join=\"inner\")\n",
    "    print(df_concat)\n",
    "\n",
    "\n"
   ]
  }
 ],
 "metadata": {
  "kernelspec": {
   "display_name": "Python 3 (ipykernel)",
   "language": "python",
   "name": "python3"
  },
  "language_info": {
   "codemirror_mode": {
    "name": "ipython",
    "version": 3
   },
   "file_extension": ".py",
   "mimetype": "text/x-python",
   "name": "python",
   "nbconvert_exporter": "python",
   "pygments_lexer": "ipython3",
   "version": "3.13.2"
  }
 },
 "nbformat": 4,
 "nbformat_minor": 2
}
